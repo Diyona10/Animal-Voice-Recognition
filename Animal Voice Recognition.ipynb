{
 "cells": [
  {
   "cell_type": "code",
   "execution_count": 5,
   "id": "43e6e8ef",
   "metadata": {},
   "outputs": [
    {
     "name": "stdout",
     "output_type": "stream",
     "text": [
      "\n",
      "Processing:'C:\\Users\\Diyona\\Documents\\dataset\\cat'\n"
     ]
    },
    {
     "name": "stderr",
     "output_type": "stream",
     "text": [
      "C:\\Users\\Diyona\\New folder\\envs\\SDP_CSE\\lib\\site-packages\\ipykernel_launcher.py:30: FutureWarning: Pass y=[0.00381674 0.00407222 0.00156718 ... 0.00068433 0.0027382  0.00901752], sr=22050 as keyword args. From version 0.10 passing these as positional arguments will result in an error\n"
     ]
    },
    {
     "name": "stdout",
     "output_type": "stream",
     "text": [
      "C:\\Users\\Diyona\\Documents\\dataset\\cat\\cat_1.wav: 0\n"
     ]
    },
    {
     "name": "stderr",
     "output_type": "stream",
     "text": [
      "C:\\Users\\Diyona\\New folder\\envs\\SDP_CSE\\lib\\site-packages\\ipykernel_launcher.py:30: FutureWarning: Pass y=[-0.00025446 -0.00013214  0.00019071 ... -0.00034746 -0.00034363\n",
      " -0.00030453], sr=22050 as keyword args. From version 0.10 passing these as positional arguments will result in an error\n",
      "C:\\Users\\Diyona\\New folder\\envs\\SDP_CSE\\lib\\site-packages\\ipykernel_launcher.py:30: FutureWarning: Pass y=[-0.00767833 -0.00919571 -0.00747135 ...  0.11241578  0.11592264\n",
      "  0.11450513], sr=22050 as keyword args. From version 0.10 passing these as positional arguments will result in an error\n"
     ]
    },
    {
     "name": "stdout",
     "output_type": "stream",
     "text": [
      "C:\\Users\\Diyona\\Documents\\dataset\\cat\\cat_10.wav: 0\n",
      "C:\\Users\\Diyona\\Documents\\dataset\\cat\\cat_100.wav: 0\n"
     ]
    },
    {
     "name": "stderr",
     "output_type": "stream",
     "text": [
      "C:\\Users\\Diyona\\New folder\\envs\\SDP_CSE\\lib\\site-packages\\ipykernel_launcher.py:30: FutureWarning: Pass y=[-0.00236715 -0.00372585 -0.00499943 ... -0.00240453 -0.0013264\n",
      " -0.00025606], sr=22050 as keyword args. From version 0.10 passing these as positional arguments will result in an error\n"
     ]
    },
    {
     "name": "stdout",
     "output_type": "stream",
     "text": [
      "C:\\Users\\Diyona\\Documents\\dataset\\cat\\cat_101.wav: 0\n"
     ]
    },
    {
     "name": "stderr",
     "output_type": "stream",
     "text": [
      "C:\\Users\\Diyona\\New folder\\envs\\SDP_CSE\\lib\\site-packages\\ipykernel_launcher.py:30: FutureWarning: Pass y=[-0.00605297 -0.00415947  0.00175886 ...  0.00256036  0.00683646\n",
      "  0.01280998], sr=22050 as keyword args. From version 0.10 passing these as positional arguments will result in an error\n"
     ]
    },
    {
     "name": "stdout",
     "output_type": "stream",
     "text": [
      "C:\\Users\\Diyona\\Documents\\dataset\\cat\\cat_102.wav: 0\n"
     ]
    },
    {
     "name": "stderr",
     "output_type": "stream",
     "text": [
      "C:\\Users\\Diyona\\New folder\\envs\\SDP_CSE\\lib\\site-packages\\ipykernel_launcher.py:30: FutureWarning: Pass y=[-0.08070096 -0.08290708 -0.0583278  ... -0.131403   -0.11192302\n",
      " -0.08353858], sr=22050 as keyword args. From version 0.10 passing these as positional arguments will result in an error\n"
     ]
    },
    {
     "name": "stdout",
     "output_type": "stream",
     "text": [
      "C:\\Users\\Diyona\\Documents\\dataset\\cat\\cat_103.wav: 0\n"
     ]
    },
    {
     "name": "stderr",
     "output_type": "stream",
     "text": [
      "C:\\Users\\Diyona\\New folder\\envs\\SDP_CSE\\lib\\site-packages\\ipykernel_launcher.py:30: FutureWarning: Pass y=[-0.00130998 -0.00093057 -0.00201629 ...  0.03630041  0.03415034\n",
      "  0.02997115], sr=22050 as keyword args. From version 0.10 passing these as positional arguments will result in an error\n"
     ]
    },
    {
     "name": "stdout",
     "output_type": "stream",
     "text": [
      "C:\\Users\\Diyona\\Documents\\dataset\\cat\\cat_105.wav: 0\n"
     ]
    },
    {
     "name": "stderr",
     "output_type": "stream",
     "text": [
      "C:\\Users\\Diyona\\New folder\\envs\\SDP_CSE\\lib\\site-packages\\ipykernel_launcher.py:30: FutureWarning: Pass y=[ 0.14597715  0.13618822  0.04193341 ... -0.20396021 -0.17534308\n",
      " -0.12197539], sr=22050 as keyword args. From version 0.10 passing these as positional arguments will result in an error\n"
     ]
    },
    {
     "name": "stdout",
     "output_type": "stream",
     "text": [
      "C:\\Users\\Diyona\\Documents\\dataset\\cat\\cat_106.wav: 0\n"
     ]
    },
    {
     "name": "stderr",
     "output_type": "stream",
     "text": [
      "C:\\Users\\Diyona\\New folder\\envs\\SDP_CSE\\lib\\site-packages\\ipykernel_launcher.py:30: FutureWarning: Pass y=[0.02043025 0.02266095 0.01802467 ... 0.02260553 0.01505418 0.01407755], sr=22050 as keyword args. From version 0.10 passing these as positional arguments will result in an error\n",
      "C:\\Users\\Diyona\\New folder\\envs\\SDP_CSE\\lib\\site-packages\\ipykernel_launcher.py:30: FutureWarning: Pass y=[-0.02869544 -0.03226709 -0.02647833 ...  0.06691578  0.1381504\n",
      "  0.17772268], sr=22050 as keyword args. From version 0.10 passing these as positional arguments will result in an error\n"
     ]
    },
    {
     "name": "stdout",
     "output_type": "stream",
     "text": [
      "C:\\Users\\Diyona\\Documents\\dataset\\cat\\cat_107.wav: 0\n",
      "C:\\Users\\Diyona\\Documents\\dataset\\cat\\cat_108.wav: 0\n"
     ]
    },
    {
     "name": "stderr",
     "output_type": "stream",
     "text": [
      "C:\\Users\\Diyona\\New folder\\envs\\SDP_CSE\\lib\\site-packages\\ipykernel_launcher.py:30: FutureWarning: Pass y=[0.         0.         0.         ... 0.00051811 0.00040651 0.00023373], sr=22050 as keyword args. From version 0.10 passing these as positional arguments will result in an error\n"
     ]
    },
    {
     "name": "stdout",
     "output_type": "stream",
     "text": [
      "C:\\Users\\Diyona\\Documents\\dataset\\cat\\cat_109.wav: 0\n"
     ]
    },
    {
     "name": "stderr",
     "output_type": "stream",
     "text": [
      "C:\\Users\\Diyona\\New folder\\envs\\SDP_CSE\\lib\\site-packages\\ipykernel_launcher.py:30: FutureWarning: Pass y=[0.         0.         0.         ... 0.00259462 0.00220562 0.0023541 ], sr=22050 as keyword args. From version 0.10 passing these as positional arguments will result in an error\n",
      "C:\\Users\\Diyona\\New folder\\envs\\SDP_CSE\\lib\\site-packages\\ipykernel_launcher.py:30: FutureWarning: Pass y=[0.         0.         0.         ... 0.13933732 0.17358403 0.13540092], sr=22050 as keyword args. From version 0.10 passing these as positional arguments will result in an error\n"
     ]
    },
    {
     "name": "stdout",
     "output_type": "stream",
     "text": [
      "C:\\Users\\Diyona\\Documents\\dataset\\cat\\cat_11.wav: 0\n",
      "C:\\Users\\Diyona\\Documents\\dataset\\cat\\cat_110.wav: 0\n"
     ]
    },
    {
     "name": "stderr",
     "output_type": "stream",
     "text": [
      "C:\\Users\\Diyona\\New folder\\envs\\SDP_CSE\\lib\\site-packages\\ipykernel_launcher.py:30: FutureWarning: Pass y=[ 0.          0.          0.         ... -0.00412451  0.01877926\n",
      "  0.03651198], sr=22050 as keyword args. From version 0.10 passing these as positional arguments will result in an error\n"
     ]
    },
    {
     "name": "stdout",
     "output_type": "stream",
     "text": [
      "C:\\Users\\Diyona\\Documents\\dataset\\cat\\cat_112.wav: 0\n"
     ]
    },
    {
     "name": "stderr",
     "output_type": "stream",
     "text": [
      "C:\\Users\\Diyona\\New folder\\envs\\SDP_CSE\\lib\\site-packages\\ipykernel_launcher.py:30: FutureWarning: Pass y=[ 0.01267697  0.01385811  0.00964023 ...  0.0007908  -0.0005343\n",
      " -0.01150949], sr=22050 as keyword args. From version 0.10 passing these as positional arguments will result in an error\n"
     ]
    },
    {
     "name": "stdout",
     "output_type": "stream",
     "text": [
      "C:\\Users\\Diyona\\Documents\\dataset\\cat\\cat_113.wav: 0\n"
     ]
    },
    {
     "name": "stderr",
     "output_type": "stream",
     "text": [
      "C:\\Users\\Diyona\\New folder\\envs\\SDP_CSE\\lib\\site-packages\\ipykernel_launcher.py:30: FutureWarning: Pass y=[0.         0.         0.         ... 0.00805674 0.015658   0.02055594], sr=22050 as keyword args. From version 0.10 passing these as positional arguments will result in an error\n"
     ]
    },
    {
     "name": "stdout",
     "output_type": "stream",
     "text": [
      "C:\\Users\\Diyona\\Documents\\dataset\\cat\\cat_114.wav: 0\n"
     ]
    },
    {
     "name": "stderr",
     "output_type": "stream",
     "text": [
      "C:\\Users\\Diyona\\New folder\\envs\\SDP_CSE\\lib\\site-packages\\ipykernel_launcher.py:30: FutureWarning: Pass y=[ 0.00187288  0.00238056  0.00167793 ...  0.00174139 -0.00802996\n",
      " -0.02489851], sr=22050 as keyword args. From version 0.10 passing these as positional arguments will result in an error\n"
     ]
    },
    {
     "name": "stdout",
     "output_type": "stream",
     "text": [
      "C:\\Users\\Diyona\\Documents\\dataset\\cat\\cat_115.wav: 0\n"
     ]
    },
    {
     "name": "stderr",
     "output_type": "stream",
     "text": [
      "C:\\Users\\Diyona\\New folder\\envs\\SDP_CSE\\lib\\site-packages\\ipykernel_launcher.py:30: FutureWarning: Pass y=[-9.0813548e-05 -6.6446708e-05  2.2792939e-05 ... -8.0227982e-03\n",
      " -1.0385801e-03  5.8803861e-03], sr=22050 as keyword args. From version 0.10 passing these as positional arguments will result in an error\n"
     ]
    },
    {
     "name": "stdout",
     "output_type": "stream",
     "text": [
      "C:\\Users\\Diyona\\Documents\\dataset\\cat\\cat_116.wav: 0\n"
     ]
    },
    {
     "name": "stderr",
     "output_type": "stream",
     "text": [
      "C:\\Users\\Diyona\\New folder\\envs\\SDP_CSE\\lib\\site-packages\\ipykernel_launcher.py:30: FutureWarning: Pass y=[-0.00637688 -0.00658163 -0.00442372 ...  0.00540357  0.00747564\n",
      "  0.00747197], sr=22050 as keyword args. From version 0.10 passing these as positional arguments will result in an error\n"
     ]
    },
    {
     "name": "stdout",
     "output_type": "stream",
     "text": [
      "C:\\Users\\Diyona\\Documents\\dataset\\cat\\cat_117.wav: 0\n"
     ]
    },
    {
     "name": "stderr",
     "output_type": "stream",
     "text": [
      "C:\\Users\\Diyona\\New folder\\envs\\SDP_CSE\\lib\\site-packages\\ipykernel_launcher.py:30: FutureWarning: Pass y=[ 0.00259147  0.00517529  0.0044466  ... -0.0040371  -0.00424253\n",
      " -0.00483955], sr=22050 as keyword args. From version 0.10 passing these as positional arguments will result in an error\n"
     ]
    },
    {
     "name": "stdout",
     "output_type": "stream",
     "text": [
      "C:\\Users\\Diyona\\Documents\\dataset\\cat\\cat_118.wav: 0\n"
     ]
    },
    {
     "name": "stderr",
     "output_type": "stream",
     "text": [
      "C:\\Users\\Diyona\\New folder\\envs\\SDP_CSE\\lib\\site-packages\\ipykernel_launcher.py:30: FutureWarning: Pass y=[0.00293484 0.0041082  0.00488814 ... 0.8571041  0.8771121  0.94103307], sr=22050 as keyword args. From version 0.10 passing these as positional arguments will result in an error\n"
     ]
    },
    {
     "name": "stdout",
     "output_type": "stream",
     "text": [
      "C:\\Users\\Diyona\\Documents\\dataset\\cat\\cat_119.wav: 0\n"
     ]
    },
    {
     "name": "stderr",
     "output_type": "stream",
     "text": [
      "C:\\Users\\Diyona\\New folder\\envs\\SDP_CSE\\lib\\site-packages\\ipykernel_launcher.py:30: FutureWarning: Pass y=[-6.0448674e-03 -6.3143987e-03 -4.2061480e-03 ... -5.9499973e-05\n",
      "  3.7362145e-06 -4.0764947e-04], sr=22050 as keyword args. From version 0.10 passing these as positional arguments will result in an error\n",
      "C:\\Users\\Diyona\\New folder\\envs\\SDP_CSE\\lib\\site-packages\\ipykernel_launcher.py:30: FutureWarning: Pass y=[-0.00746986 -0.00859138 -0.00717234 ...  0.00850676 -0.00778222\n",
      " -0.02311862], sr=22050 as keyword args. From version 0.10 passing these as positional arguments will result in an error\n"
     ]
    },
    {
     "name": "stdout",
     "output_type": "stream",
     "text": [
      "C:\\Users\\Diyona\\Documents\\dataset\\cat\\cat_12.wav: 0\n",
      "C:\\Users\\Diyona\\Documents\\dataset\\cat\\cat_120.wav: 0\n"
     ]
    },
    {
     "name": "stderr",
     "output_type": "stream",
     "text": [
      "C:\\Users\\Diyona\\New folder\\envs\\SDP_CSE\\lib\\site-packages\\ipykernel_launcher.py:30: FutureWarning: Pass y=[ 0.          0.          0.         ... -0.00404912 -0.00402045\n",
      " -0.00365268], sr=22050 as keyword args. From version 0.10 passing these as positional arguments will result in an error\n"
     ]
    },
    {
     "name": "stdout",
     "output_type": "stream",
     "text": [
      "C:\\Users\\Diyona\\Documents\\dataset\\cat\\cat_121.wav: 0\n"
     ]
    },
    {
     "name": "stderr",
     "output_type": "stream",
     "text": [
      "C:\\Users\\Diyona\\New folder\\envs\\SDP_CSE\\lib\\site-packages\\ipykernel_launcher.py:30: FutureWarning: Pass y=[0.         0.         0.         ... 0.12492884 0.06516752 0.03065193], sr=22050 as keyword args. From version 0.10 passing these as positional arguments will result in an error\n"
     ]
    },
    {
     "name": "stdout",
     "output_type": "stream",
     "text": [
      "C:\\Users\\Diyona\\Documents\\dataset\\cat\\cat_122.wav: 0\n"
     ]
    },
    {
     "name": "stderr",
     "output_type": "stream",
     "text": [
      "C:\\Users\\Diyona\\New folder\\envs\\SDP_CSE\\lib\\site-packages\\ipykernel_launcher.py:30: FutureWarning: Pass y=[ 0.          0.          0.         ... -0.26697102 -0.25592762\n",
      " -0.22896776], sr=22050 as keyword args. From version 0.10 passing these as positional arguments will result in an error\n",
      "C:\\Users\\Diyona\\New folder\\envs\\SDP_CSE\\lib\\site-packages\\ipykernel_launcher.py:30: FutureWarning: Pass y=[0.         0.         0.         ... 0.03359619 0.03335128 0.03567439], sr=22050 as keyword args. From version 0.10 passing these as positional arguments will result in an error\n"
     ]
    },
    {
     "name": "stdout",
     "output_type": "stream",
     "text": [
      "C:\\Users\\Diyona\\Documents\\dataset\\cat\\cat_123.wav: 0\n",
      "C:\\Users\\Diyona\\Documents\\dataset\\cat\\cat_124.wav: 0\n"
     ]
    },
    {
     "name": "stderr",
     "output_type": "stream",
     "text": [
      "C:\\Users\\Diyona\\New folder\\envs\\SDP_CSE\\lib\\site-packages\\ipykernel_launcher.py:30: FutureWarning: Pass y=[ 0.          0.          0.         ... -0.0009305  -0.01772795\n",
      " -0.03320898], sr=22050 as keyword args. From version 0.10 passing these as positional arguments will result in an error\n"
     ]
    },
    {
     "name": "stdout",
     "output_type": "stream",
     "text": [
      "C:\\Users\\Diyona\\Documents\\dataset\\cat\\cat_125.wav: 0\n"
     ]
    },
    {
     "name": "stderr",
     "output_type": "stream",
     "text": [
      "C:\\Users\\Diyona\\New folder\\envs\\SDP_CSE\\lib\\site-packages\\ipykernel_launcher.py:30: FutureWarning: Pass y=[ 0.          0.          0.         ...  0.24813457  0.03692313\n",
      " -0.07807001], sr=22050 as keyword args. From version 0.10 passing these as positional arguments will result in an error\n"
     ]
    },
    {
     "name": "stdout",
     "output_type": "stream",
     "text": [
      "C:\\Users\\Diyona\\Documents\\dataset\\cat\\cat_126.wav: 0\n"
     ]
    },
    {
     "name": "stderr",
     "output_type": "stream",
     "text": [
      "C:\\Users\\Diyona\\New folder\\envs\\SDP_CSE\\lib\\site-packages\\ipykernel_launcher.py:30: FutureWarning: Pass y=[-0.00021272 -0.00118389 -0.00204984 ...  0.00901205  0.01561931\n",
      " -0.00063264], sr=22050 as keyword args. From version 0.10 passing these as positional arguments will result in an error\n"
     ]
    },
    {
     "name": "stdout",
     "output_type": "stream",
     "text": [
      "C:\\Users\\Diyona\\Documents\\dataset\\cat\\cat_127.wav: 0\n"
     ]
    },
    {
     "name": "stderr",
     "output_type": "stream",
     "text": [
      "C:\\Users\\Diyona\\New folder\\envs\\SDP_CSE\\lib\\site-packages\\ipykernel_launcher.py:30: FutureWarning: Pass y=[-0.05379883 -0.08589032 -0.07192051 ... -0.00145673 -0.0038323\n",
      " -0.000901  ], sr=22050 as keyword args. From version 0.10 passing these as positional arguments will result in an error\n"
     ]
    },
    {
     "name": "stdout",
     "output_type": "stream",
     "text": [
      "C:\\Users\\Diyona\\Documents\\dataset\\cat\\cat_128.wav: 0\n"
     ]
    },
    {
     "name": "stderr",
     "output_type": "stream",
     "text": [
      "C:\\Users\\Diyona\\New folder\\envs\\SDP_CSE\\lib\\site-packages\\ipykernel_launcher.py:30: FutureWarning: Pass y=[ 0.          0.          0.         ... -0.12719482 -0.1037295\n",
      " -0.08075092], sr=22050 as keyword args. From version 0.10 passing these as positional arguments will result in an error\n"
     ]
    },
    {
     "name": "stdout",
     "output_type": "stream",
     "text": [
      "C:\\Users\\Diyona\\Documents\\dataset\\cat\\cat_129.wav: 0\n"
     ]
    },
    {
     "name": "stderr",
     "output_type": "stream",
     "text": [
      "C:\\Users\\Diyona\\New folder\\envs\\SDP_CSE\\lib\\site-packages\\ipykernel_launcher.py:30: FutureWarning: Pass y=[-0.01028536 -0.00863424 -0.00885612 ...  0.00797805  0.01003682\n",
      "  0.00843911], sr=22050 as keyword args. From version 0.10 passing these as positional arguments will result in an error\n",
      "C:\\Users\\Diyona\\New folder\\envs\\SDP_CSE\\lib\\site-packages\\ipykernel_launcher.py:30: FutureWarning: Pass y=[ 0.          0.          0.         ... -0.11086781 -0.13500835\n",
      " -0.12618615], sr=22050 as keyword args. From version 0.10 passing these as positional arguments will result in an error\n"
     ]
    },
    {
     "name": "stdout",
     "output_type": "stream",
     "text": [
      "C:\\Users\\Diyona\\Documents\\dataset\\cat\\cat_13.wav: 0\n",
      "C:\\Users\\Diyona\\Documents\\dataset\\cat\\cat_130.wav: 0\n"
     ]
    },
    {
     "name": "stderr",
     "output_type": "stream",
     "text": [
      "C:\\Users\\Diyona\\New folder\\envs\\SDP_CSE\\lib\\site-packages\\ipykernel_launcher.py:30: FutureWarning: Pass y=[ 0.01285413  0.01488461  0.01386087 ... -0.62390894 -0.6202522\n",
      " -0.6104763 ], sr=22050 as keyword args. From version 0.10 passing these as positional arguments will result in an error\n"
     ]
    },
    {
     "name": "stdout",
     "output_type": "stream",
     "text": [
      "C:\\Users\\Diyona\\Documents\\dataset\\cat\\cat_131.wav: 0\n"
     ]
    },
    {
     "name": "stderr",
     "output_type": "stream",
     "text": [
      "C:\\Users\\Diyona\\New folder\\envs\\SDP_CSE\\lib\\site-packages\\ipykernel_launcher.py:30: FutureWarning: Pass y=[ 7.6420866e-03  9.9831298e-03  9.5686223e-03 ... -3.1468703e-03\n",
      " -6.8650261e-05 -1.6543021e-03], sr=22050 as keyword args. From version 0.10 passing these as positional arguments will result in an error\n",
      "C:\\Users\\Diyona\\New folder\\envs\\SDP_CSE\\lib\\site-packages\\ipykernel_launcher.py:30: FutureWarning: Pass y=[0.         0.         0.         ... 0.26924485 0.28712565 0.32796425], sr=22050 as keyword args. From version 0.10 passing these as positional arguments will result in an error\n"
     ]
    },
    {
     "name": "stdout",
     "output_type": "stream",
     "text": [
      "C:\\Users\\Diyona\\Documents\\dataset\\cat\\cat_132.wav: 0\n",
      "C:\\Users\\Diyona\\Documents\\dataset\\cat\\cat_133.wav: 0\n"
     ]
    },
    {
     "name": "stderr",
     "output_type": "stream",
     "text": [
      "C:\\Users\\Diyona\\New folder\\envs\\SDP_CSE\\lib\\site-packages\\ipykernel_launcher.py:30: FutureWarning: Pass y=[0.         0.         0.         ... 0.04064017 0.03930507 0.03863617], sr=22050 as keyword args. From version 0.10 passing these as positional arguments will result in an error\n",
      "C:\\Users\\Diyona\\New folder\\envs\\SDP_CSE\\lib\\site-packages\\ipykernel_launcher.py:30: FutureWarning: Pass y=[0.         0.         0.         ... 0.03181223 0.03088051 0.03086219], sr=22050 as keyword args. From version 0.10 passing these as positional arguments will result in an error\n"
     ]
    },
    {
     "name": "stdout",
     "output_type": "stream",
     "text": [
      "C:\\Users\\Diyona\\Documents\\dataset\\cat\\cat_134.wav: 0\n",
      "C:\\Users\\Diyona\\Documents\\dataset\\cat\\cat_135.wav: 0\n"
     ]
    },
    {
     "name": "stderr",
     "output_type": "stream",
     "text": [
      "C:\\Users\\Diyona\\New folder\\envs\\SDP_CSE\\lib\\site-packages\\ipykernel_launcher.py:30: FutureWarning: Pass y=[ 2.4697406e-03 -1.8560922e-03 -3.7107423e-03 ...  1.2292211e-04\n",
      "  1.0309494e-04  9.6319993e-05], sr=22050 as keyword args. From version 0.10 passing these as positional arguments will result in an error\n",
      "C:\\Users\\Diyona\\New folder\\envs\\SDP_CSE\\lib\\site-packages\\ipykernel_launcher.py:30: FutureWarning: Pass y=[-2.7006799e-05 -8.0639511e-06 -9.8427017e-06 ...  5.2568101e-04\n",
      "  4.9431704e-04  4.9366039e-04], sr=22050 as keyword args. From version 0.10 passing these as positional arguments will result in an error\n"
     ]
    },
    {
     "name": "stdout",
     "output_type": "stream",
     "text": [
      "C:\\Users\\Diyona\\Documents\\dataset\\cat\\cat_136.wav: 0\n",
      "C:\\Users\\Diyona\\Documents\\dataset\\cat\\cat_137.wav: 0\n"
     ]
    },
    {
     "name": "stderr",
     "output_type": "stream",
     "text": [
      "C:\\Users\\Diyona\\New folder\\envs\\SDP_CSE\\lib\\site-packages\\ipykernel_launcher.py:30: FutureWarning: Pass y=[ 0.02468215  0.02660968  0.02021338 ... -0.05313203 -0.02774758\n",
      " -0.01124521], sr=22050 as keyword args. From version 0.10 passing these as positional arguments will result in an error\n"
     ]
    },
    {
     "name": "stdout",
     "output_type": "stream",
     "text": [
      "C:\\Users\\Diyona\\Documents\\dataset\\cat\\cat_138.wav: 0\n"
     ]
    },
    {
     "name": "stderr",
     "output_type": "stream",
     "text": [
      "C:\\Users\\Diyona\\New folder\\envs\\SDP_CSE\\lib\\site-packages\\ipykernel_launcher.py:30: FutureWarning: Pass y=[ 0.          0.          0.         ... -0.00344305  0.00405807\n",
      " -0.08235168], sr=22050 as keyword args. From version 0.10 passing these as positional arguments will result in an error\n"
     ]
    },
    {
     "name": "stdout",
     "output_type": "stream",
     "text": [
      "C:\\Users\\Diyona\\Documents\\dataset\\cat\\cat_14.wav: 0\n"
     ]
    },
    {
     "name": "stderr",
     "output_type": "stream",
     "text": [
      "C:\\Users\\Diyona\\New folder\\envs\\SDP_CSE\\lib\\site-packages\\ipykernel_launcher.py:30: FutureWarning: Pass y=[0.01200889 0.01353355 0.01361745 ... 0.06953868 0.06959765 0.06687112], sr=22050 as keyword args. From version 0.10 passing these as positional arguments will result in an error\n"
     ]
    },
    {
     "name": "stdout",
     "output_type": "stream",
     "text": [
      "C:\\Users\\Diyona\\Documents\\dataset\\cat\\cat_142.wav: 0\n"
     ]
    },
    {
     "name": "stderr",
     "output_type": "stream",
     "text": [
      "C:\\Users\\Diyona\\New folder\\envs\\SDP_CSE\\lib\\site-packages\\ipykernel_launcher.py:30: FutureWarning: Pass y=[-0.0130378  -0.01496997 -0.0125351  ... -0.0473669  -0.06681732\n",
      " -0.05046047], sr=22050 as keyword args. From version 0.10 passing these as positional arguments will result in an error\n"
     ]
    },
    {
     "name": "stdout",
     "output_type": "stream",
     "text": [
      "C:\\Users\\Diyona\\Documents\\dataset\\cat\\cat_143.wav: 0\n"
     ]
    },
    {
     "name": "stderr",
     "output_type": "stream",
     "text": [
      "C:\\Users\\Diyona\\New folder\\envs\\SDP_CSE\\lib\\site-packages\\ipykernel_launcher.py:30: FutureWarning: Pass y=[-1.80438650e-03 -1.28099055e-03 -2.10788799e-04 ... -6.86702970e-06\n",
      " -1.43252255e-05 -2.60632296e-05], sr=22050 as keyword args. From version 0.10 passing these as positional arguments will result in an error\n"
     ]
    },
    {
     "name": "stdout",
     "output_type": "stream",
     "text": [
      "C:\\Users\\Diyona\\Documents\\dataset\\cat\\cat_144.wav: 0\n"
     ]
    },
    {
     "name": "stderr",
     "output_type": "stream",
     "text": [
      "C:\\Users\\Diyona\\New folder\\envs\\SDP_CSE\\lib\\site-packages\\ipykernel_launcher.py:30: FutureWarning: Pass y=[ 0.          0.          0.         ... -0.02475698 -0.02464701\n",
      " -0.04513672], sr=22050 as keyword args. From version 0.10 passing these as positional arguments will result in an error\n"
     ]
    },
    {
     "name": "stdout",
     "output_type": "stream",
     "text": [
      "C:\\Users\\Diyona\\Documents\\dataset\\cat\\cat_146.wav: 0\n"
     ]
    },
    {
     "name": "stderr",
     "output_type": "stream",
     "text": [
      "C:\\Users\\Diyona\\New folder\\envs\\SDP_CSE\\lib\\site-packages\\ipykernel_launcher.py:30: FutureWarning: Pass y=[ 0.02504682  0.02965949  0.02735689 ... -0.01212885 -0.01211574\n",
      " -0.01134868], sr=22050 as keyword args. From version 0.10 passing these as positional arguments will result in an error\n"
     ]
    },
    {
     "name": "stdout",
     "output_type": "stream",
     "text": [
      "C:\\Users\\Diyona\\Documents\\dataset\\cat\\cat_147.wav: 0\n"
     ]
    },
    {
     "name": "stderr",
     "output_type": "stream",
     "text": [
      "C:\\Users\\Diyona\\New folder\\envs\\SDP_CSE\\lib\\site-packages\\ipykernel_launcher.py:30: FutureWarning: Pass y=[0.03233161 0.04063217 0.03380399 ... 0.03154376 0.03065128 0.033061  ], sr=22050 as keyword args. From version 0.10 passing these as positional arguments will result in an error\n",
      "C:\\Users\\Diyona\\New folder\\envs\\SDP_CSE\\lib\\site-packages\\ipykernel_launcher.py:30: FutureWarning: Pass y=[ 0.          0.          0.         ... -0.00237011 -0.00378435\n",
      "  0.01113531], sr=22050 as keyword args. From version 0.10 passing these as positional arguments will result in an error\n"
     ]
    },
    {
     "name": "stdout",
     "output_type": "stream",
     "text": [
      "C:\\Users\\Diyona\\Documents\\dataset\\cat\\cat_148.wav: 0\n",
      "C:\\Users\\Diyona\\Documents\\dataset\\cat\\cat_149.wav: 0\n"
     ]
    },
    {
     "name": "stderr",
     "output_type": "stream",
     "text": [
      "C:\\Users\\Diyona\\New folder\\envs\\SDP_CSE\\lib\\site-packages\\ipykernel_launcher.py:30: FutureWarning: Pass y=[0.         0.         0.         ... 0.03244852 0.02869158 0.0262989 ], sr=22050 as keyword args. From version 0.10 passing these as positional arguments will result in an error\n",
      "C:\\Users\\Diyona\\New folder\\envs\\SDP_CSE\\lib\\site-packages\\ipykernel_launcher.py:30: FutureWarning: Pass y=[-3.11512231e-05 -3.57794948e-03 -1.15916366e-03 ...  1.00029163e-01\n",
      "  1.09207295e-01 -4.72574346e-02], sr=22050 as keyword args. From version 0.10 passing these as positional arguments will result in an error\n"
     ]
    },
    {
     "name": "stdout",
     "output_type": "stream",
     "text": [
      "C:\\Users\\Diyona\\Documents\\dataset\\cat\\cat_15.wav: 0\n",
      "C:\\Users\\Diyona\\Documents\\dataset\\cat\\cat_150.wav: 0\n"
     ]
    },
    {
     "name": "stderr",
     "output_type": "stream",
     "text": [
      "C:\\Users\\Diyona\\New folder\\envs\\SDP_CSE\\lib\\site-packages\\ipykernel_launcher.py:30: FutureWarning: Pass y=[ 0.          0.          0.         ... -0.1465682  -0.15715437\n",
      " -0.1639458 ], sr=22050 as keyword args. From version 0.10 passing these as positional arguments will result in an error\n"
     ]
    },
    {
     "name": "stdout",
     "output_type": "stream",
     "text": [
      "C:\\Users\\Diyona\\Documents\\dataset\\cat\\cat_151.wav: 0\n"
     ]
    },
    {
     "name": "stderr",
     "output_type": "stream",
     "text": [
      "C:\\Users\\Diyona\\New folder\\envs\\SDP_CSE\\lib\\site-packages\\ipykernel_launcher.py:30: FutureWarning: Pass y=[-0.00038586 -0.00562156 -0.01074134 ... -0.02187089 -0.02299881\n",
      " -0.02239206], sr=22050 as keyword args. From version 0.10 passing these as positional arguments will result in an error\n"
     ]
    },
    {
     "name": "stdout",
     "output_type": "stream",
     "text": [
      "C:\\Users\\Diyona\\Documents\\dataset\\cat\\cat_152.wav: 0\n"
     ]
    },
    {
     "name": "stderr",
     "output_type": "stream",
     "text": [
      "C:\\Users\\Diyona\\New folder\\envs\\SDP_CSE\\lib\\site-packages\\ipykernel_launcher.py:30: FutureWarning: Pass y=[-0.01660747 -0.0184892  -0.01361625 ...  0.11689296  0.08363758\n",
      " -0.03457507], sr=22050 as keyword args. From version 0.10 passing these as positional arguments will result in an error\n"
     ]
    },
    {
     "name": "stdout",
     "output_type": "stream",
     "text": [
      "C:\\Users\\Diyona\\Documents\\dataset\\cat\\cat_153.wav: 0\n"
     ]
    },
    {
     "name": "stderr",
     "output_type": "stream",
     "text": [
      "C:\\Users\\Diyona\\New folder\\envs\\SDP_CSE\\lib\\site-packages\\ipykernel_launcher.py:30: FutureWarning: Pass y=[ 0.          0.          0.         ... -0.08496366 -0.09526622\n",
      " -0.07020494], sr=22050 as keyword args. From version 0.10 passing these as positional arguments will result in an error\n"
     ]
    },
    {
     "name": "stdout",
     "output_type": "stream",
     "text": [
      "C:\\Users\\Diyona\\Documents\\dataset\\cat\\cat_154.wav: 0\n"
     ]
    },
    {
     "name": "stderr",
     "output_type": "stream",
     "text": [
      "C:\\Users\\Diyona\\New folder\\envs\\SDP_CSE\\lib\\site-packages\\ipykernel_launcher.py:30: FutureWarning: Pass y=[ 0.          0.          0.         ... -0.03958428  0.08219679\n",
      "  0.15423079], sr=22050 as keyword args. From version 0.10 passing these as positional arguments will result in an error\n",
      "C:\\Users\\Diyona\\New folder\\envs\\SDP_CSE\\lib\\site-packages\\ipykernel_launcher.py:30: FutureWarning: Pass y=[-2.6027965e-03 -2.0847120e-03 -2.4696928e-04 ...  5.0949633e-01\n",
      "  4.7089309e-01  2.3056410e-01], sr=22050 as keyword args. From version 0.10 passing these as positional arguments will result in an error\n"
     ]
    },
    {
     "name": "stdout",
     "output_type": "stream",
     "text": [
      "C:\\Users\\Diyona\\Documents\\dataset\\cat\\cat_155.wav: 0\n",
      "C:\\Users\\Diyona\\Documents\\dataset\\cat\\cat_156.wav: 0\n"
     ]
    },
    {
     "name": "stderr",
     "output_type": "stream",
     "text": [
      "C:\\Users\\Diyona\\New folder\\envs\\SDP_CSE\\lib\\site-packages\\ipykernel_launcher.py:30: FutureWarning: Pass y=[ 0.          0.          0.         ... -0.01330057 -0.02335374\n",
      " -0.05190988], sr=22050 as keyword args. From version 0.10 passing these as positional arguments will result in an error\n",
      "C:\\Users\\Diyona\\New folder\\envs\\SDP_CSE\\lib\\site-packages\\ipykernel_launcher.py:30: FutureWarning: Pass y=[ 0.          0.          0.         ... -0.01979561 -0.03099259\n",
      " -0.04946648], sr=22050 as keyword args. From version 0.10 passing these as positional arguments will result in an error\n"
     ]
    },
    {
     "name": "stdout",
     "output_type": "stream",
     "text": [
      "C:\\Users\\Diyona\\Documents\\dataset\\cat\\cat_157.wav: 0\n",
      "C:\\Users\\Diyona\\Documents\\dataset\\cat\\cat_158.wav: 0\n"
     ]
    },
    {
     "name": "stderr",
     "output_type": "stream",
     "text": [
      "C:\\Users\\Diyona\\New folder\\envs\\SDP_CSE\\lib\\site-packages\\ipykernel_launcher.py:30: FutureWarning: Pass y=[0.         0.         0.         ... 0.00061452 0.00144642 0.00275687], sr=22050 as keyword args. From version 0.10 passing these as positional arguments will result in an error\n"
     ]
    },
    {
     "name": "stdout",
     "output_type": "stream",
     "text": [
      "C:\\Users\\Diyona\\Documents\\dataset\\cat\\cat_159.wav: 0\n"
     ]
    },
    {
     "name": "stderr",
     "output_type": "stream",
     "text": [
      "C:\\Users\\Diyona\\New folder\\envs\\SDP_CSE\\lib\\site-packages\\ipykernel_launcher.py:30: FutureWarning: Pass y=[ 0.          0.          0.         ... -0.00351827 -0.00351724\n",
      " -0.00353753], sr=22050 as keyword args. From version 0.10 passing these as positional arguments will result in an error\n"
     ]
    },
    {
     "name": "stdout",
     "output_type": "stream",
     "text": [
      "C:\\Users\\Diyona\\Documents\\dataset\\cat\\cat_16.wav: 0\n"
     ]
    },
    {
     "name": "stderr",
     "output_type": "stream",
     "text": [
      "C:\\Users\\Diyona\\New folder\\envs\\SDP_CSE\\lib\\site-packages\\ipykernel_launcher.py:30: FutureWarning: Pass y=[ 0.05482596  0.08594056  0.09868307 ... -0.01748228 -0.0156499\n",
      " -0.01399941], sr=22050 as keyword args. From version 0.10 passing these as positional arguments will result in an error\n"
     ]
    },
    {
     "name": "stdout",
     "output_type": "stream",
     "text": [
      "C:\\Users\\Diyona\\Documents\\dataset\\cat\\cat_160.wav: 0\n"
     ]
    },
    {
     "name": "stderr",
     "output_type": "stream",
     "text": [
      "C:\\Users\\Diyona\\New folder\\envs\\SDP_CSE\\lib\\site-packages\\ipykernel_launcher.py:30: FutureWarning: Pass y=[ 0.00271981  0.00139126  0.00061213 ... -0.01447861  0.05783642\n",
      "  0.05223372], sr=22050 as keyword args. From version 0.10 passing these as positional arguments will result in an error\n"
     ]
    },
    {
     "name": "stdout",
     "output_type": "stream",
     "text": [
      "C:\\Users\\Diyona\\Documents\\dataset\\cat\\cat_161.wav: 0\n"
     ]
    },
    {
     "name": "stderr",
     "output_type": "stream",
     "text": [
      "C:\\Users\\Diyona\\New folder\\envs\\SDP_CSE\\lib\\site-packages\\ipykernel_launcher.py:30: FutureWarning: Pass y=[0.0013849  0.00255191 0.00313627 ... 0.03434697 0.034961   0.03488205], sr=22050 as keyword args. From version 0.10 passing these as positional arguments will result in an error\n"
     ]
    },
    {
     "name": "stdout",
     "output_type": "stream",
     "text": [
      "C:\\Users\\Diyona\\Documents\\dataset\\cat\\cat_162.wav: 0\n"
     ]
    },
    {
     "name": "stderr",
     "output_type": "stream",
     "text": [
      "C:\\Users\\Diyona\\New folder\\envs\\SDP_CSE\\lib\\site-packages\\ipykernel_launcher.py:30: FutureWarning: Pass y=[-0.00186698 -0.00206023 -0.00309696 ... -0.04276253 -0.05421887\n",
      " -0.05900742], sr=22050 as keyword args. From version 0.10 passing these as positional arguments will result in an error\n"
     ]
    },
    {
     "name": "stdout",
     "output_type": "stream",
     "text": [
      "C:\\Users\\Diyona\\Documents\\dataset\\cat\\cat_163.wav: 0\n"
     ]
    },
    {
     "name": "stderr",
     "output_type": "stream",
     "text": [
      "C:\\Users\\Diyona\\New folder\\envs\\SDP_CSE\\lib\\site-packages\\ipykernel_launcher.py:30: FutureWarning: Pass y=[-0.00690821 -0.00864758 -0.00746569 ... -0.18852803 -0.2855689\n",
      " -0.28655908], sr=22050 as keyword args. From version 0.10 passing these as positional arguments will result in an error\n"
     ]
    },
    {
     "name": "stdout",
     "output_type": "stream",
     "text": [
      "C:\\Users\\Diyona\\Documents\\dataset\\cat\\cat_164.wav: 0\n"
     ]
    },
    {
     "name": "stderr",
     "output_type": "stream",
     "text": [
      "C:\\Users\\Diyona\\New folder\\envs\\SDP_CSE\\lib\\site-packages\\ipykernel_launcher.py:30: FutureWarning: Pass y=[ 0.0000000e+00  0.0000000e+00  0.0000000e+00 ... -3.6776906e-05\n",
      " -1.0490305e-05  9.8300013e-08], sr=22050 as keyword args. From version 0.10 passing these as positional arguments will result in an error\n"
     ]
    },
    {
     "name": "stdout",
     "output_type": "stream",
     "text": [
      "C:\\Users\\Diyona\\Documents\\dataset\\cat\\cat_165.wav: 0\n"
     ]
    },
    {
     "name": "stderr",
     "output_type": "stream",
     "text": [
      "C:\\Users\\Diyona\\New folder\\envs\\SDP_CSE\\lib\\site-packages\\ipykernel_launcher.py:30: FutureWarning: Pass y=[0.34242952 0.31748822 0.15939067 ... 0.         0.         0.        ], sr=22050 as keyword args. From version 0.10 passing these as positional arguments will result in an error\n"
     ]
    },
    {
     "name": "stdout",
     "output_type": "stream",
     "text": [
      "C:\\Users\\Diyona\\Documents\\dataset\\cat\\cat_166.wav: 0\n"
     ]
    },
    {
     "name": "stderr",
     "output_type": "stream",
     "text": [
      "C:\\Users\\Diyona\\New folder\\envs\\SDP_CSE\\lib\\site-packages\\ipykernel_launcher.py:30: FutureWarning: Pass y=[-0.03754178 -0.03832456 -0.00549733 ...  0.05888899  0.03552034\n",
      "  0.00710524], sr=22050 as keyword args. From version 0.10 passing these as positional arguments will result in an error\n",
      "C:\\Users\\Diyona\\New folder\\envs\\SDP_CSE\\lib\\site-packages\\ipykernel_launcher.py:30: FutureWarning: Pass y=[ 1.0224979e-06  3.5593857e-06 -1.4451848e-05 ... -7.6774262e-02\n",
      "  2.7929157e-01  5.1796663e-01], sr=22050 as keyword args. From version 0.10 passing these as positional arguments will result in an error\n"
     ]
    },
    {
     "name": "stdout",
     "output_type": "stream",
     "text": [
      "C:\\Users\\Diyona\\Documents\\dataset\\cat\\cat_167.wav: 0\n",
      "C:\\Users\\Diyona\\Documents\\dataset\\cat\\cat_17.wav: 0\n"
     ]
    },
    {
     "name": "stderr",
     "output_type": "stream",
     "text": [
      "C:\\Users\\Diyona\\New folder\\envs\\SDP_CSE\\lib\\site-packages\\ipykernel_launcher.py:30: FutureWarning: Pass y=[-3.0268522e-05 -3.3776250e-05 -2.7196202e-05 ...  2.7184037e-02\n",
      "  3.6007717e-02  4.0534623e-02], sr=22050 as keyword args. From version 0.10 passing these as positional arguments will result in an error\n",
      "C:\\Users\\Diyona\\New folder\\envs\\SDP_CSE\\lib\\site-packages\\ipykernel_launcher.py:30: FutureWarning: Pass y=[ 0.          0.          0.         ...  0.01621624  0.00379286\n",
      " -0.01760312], sr=22050 as keyword args. From version 0.10 passing these as positional arguments will result in an error\n"
     ]
    },
    {
     "name": "stdout",
     "output_type": "stream",
     "text": [
      "C:\\Users\\Diyona\\Documents\\dataset\\cat\\cat_18.wav: 0\n",
      "C:\\Users\\Diyona\\Documents\\dataset\\cat\\cat_19.wav: 0\n"
     ]
    },
    {
     "name": "stderr",
     "output_type": "stream",
     "text": [
      "C:\\Users\\Diyona\\New folder\\envs\\SDP_CSE\\lib\\site-packages\\ipykernel_launcher.py:30: FutureWarning: Pass y=[-0.03053026 -0.03485088 -0.02975986 ...  0.00280005  0.00375159\n",
      "  0.00404181], sr=22050 as keyword args. From version 0.10 passing these as positional arguments will result in an error\n",
      "C:\\Users\\Diyona\\New folder\\envs\\SDP_CSE\\lib\\site-packages\\ipykernel_launcher.py:30: FutureWarning: Pass y=[0.00067954 0.00079281 0.00081845 ... 0.09118637 0.08933296 0.08408996], sr=22050 as keyword args. From version 0.10 passing these as positional arguments will result in an error\n"
     ]
    },
    {
     "name": "stdout",
     "output_type": "stream",
     "text": [
      "C:\\Users\\Diyona\\Documents\\dataset\\cat\\cat_2.wav: 0\n",
      "C:\\Users\\Diyona\\Documents\\dataset\\cat\\cat_20.wav: 0\n"
     ]
    },
    {
     "name": "stderr",
     "output_type": "stream",
     "text": [
      "C:\\Users\\Diyona\\New folder\\envs\\SDP_CSE\\lib\\site-packages\\ipykernel_launcher.py:30: FutureWarning: Pass y=[-0.00889576 -0.00463641  0.00303268 ... -0.00226509 -0.00207593\n",
      " -0.00170167], sr=22050 as keyword args. From version 0.10 passing these as positional arguments will result in an error\n"
     ]
    },
    {
     "name": "stdout",
     "output_type": "stream",
     "text": [
      "C:\\Users\\Diyona\\Documents\\dataset\\cat\\cat_21.wav: 0\n"
     ]
    },
    {
     "name": "stderr",
     "output_type": "stream",
     "text": [
      "C:\\Users\\Diyona\\New folder\\envs\\SDP_CSE\\lib\\site-packages\\ipykernel_launcher.py:30: FutureWarning: Pass y=[0.01422629 0.01455113 0.00752437 ... 0.00271314 0.00245995 0.00249117], sr=22050 as keyword args. From version 0.10 passing these as positional arguments will result in an error\n"
     ]
    },
    {
     "name": "stdout",
     "output_type": "stream",
     "text": [
      "C:\\Users\\Diyona\\Documents\\dataset\\cat\\cat_22.wav: 0\n"
     ]
    },
    {
     "name": "stderr",
     "output_type": "stream",
     "text": [
      "C:\\Users\\Diyona\\New folder\\envs\\SDP_CSE\\lib\\site-packages\\ipykernel_launcher.py:30: FutureWarning: Pass y=[-0.00606291 -0.00521357 -0.00262306 ...  0.00348738  0.00369417\n",
      "  0.00389835], sr=22050 as keyword args. From version 0.10 passing these as positional arguments will result in an error\n"
     ]
    },
    {
     "name": "stdout",
     "output_type": "stream",
     "text": [
      "C:\\Users\\Diyona\\Documents\\dataset\\cat\\cat_23.wav: 0\n"
     ]
    },
    {
     "name": "stderr",
     "output_type": "stream",
     "text": [
      "C:\\Users\\Diyona\\New folder\\envs\\SDP_CSE\\lib\\site-packages\\ipykernel_launcher.py:30: FutureWarning: Pass y=[-0.00564922 -0.00634382 -0.0047614  ...  0.3391248   0.3811688\n",
      "  0.38069445], sr=22050 as keyword args. From version 0.10 passing these as positional arguments will result in an error\n"
     ]
    },
    {
     "name": "stdout",
     "output_type": "stream",
     "text": [
      "C:\\Users\\Diyona\\Documents\\dataset\\cat\\cat_24.wav: 0\n"
     ]
    },
    {
     "name": "stderr",
     "output_type": "stream",
     "text": [
      "C:\\Users\\Diyona\\New folder\\envs\\SDP_CSE\\lib\\site-packages\\ipykernel_launcher.py:30: FutureWarning: Pass y=[0.00675526 0.00820247 0.00785603 ... 0.00772629 0.00955045 0.01163497], sr=22050 as keyword args. From version 0.10 passing these as positional arguments will result in an error\n"
     ]
    },
    {
     "name": "stdout",
     "output_type": "stream",
     "text": [
      "C:\\Users\\Diyona\\Documents\\dataset\\cat\\cat_25.wav: 0\n"
     ]
    },
    {
     "name": "stderr",
     "output_type": "stream",
     "text": [
      "C:\\Users\\Diyona\\New folder\\envs\\SDP_CSE\\lib\\site-packages\\ipykernel_launcher.py:30: FutureWarning: Pass y=[0.00101338 0.0011113  0.00095144 ... 0.0006087  0.00112848 0.00124021], sr=22050 as keyword args. From version 0.10 passing these as positional arguments will result in an error\n",
      "C:\\Users\\Diyona\\New folder\\envs\\SDP_CSE\\lib\\site-packages\\ipykernel_launcher.py:30: FutureWarning: Pass y=[-0.00035646 -0.0004869  -0.00036308 ...  0.00747877  0.00735009\n",
      "  0.0068501 ], sr=22050 as keyword args. From version 0.10 passing these as positional arguments will result in an error\n"
     ]
    },
    {
     "name": "stdout",
     "output_type": "stream",
     "text": [
      "C:\\Users\\Diyona\\Documents\\dataset\\cat\\cat_26.wav: 0\n",
      "C:\\Users\\Diyona\\Documents\\dataset\\cat\\cat_27.wav: 0\n"
     ]
    },
    {
     "name": "stderr",
     "output_type": "stream",
     "text": [
      "C:\\Users\\Diyona\\New folder\\envs\\SDP_CSE\\lib\\site-packages\\ipykernel_launcher.py:30: FutureWarning: Pass y=[ 0.          0.          0.         ... -0.04847853 -0.05082523\n",
      " -0.04893881], sr=22050 as keyword args. From version 0.10 passing these as positional arguments will result in an error\n"
     ]
    },
    {
     "name": "stdout",
     "output_type": "stream",
     "text": [
      "C:\\Users\\Diyona\\Documents\\dataset\\cat\\cat_28.wav: 0\n"
     ]
    },
    {
     "name": "stderr",
     "output_type": "stream",
     "text": [
      "C:\\Users\\Diyona\\New folder\\envs\\SDP_CSE\\lib\\site-packages\\ipykernel_launcher.py:30: FutureWarning: Pass y=[-0.00306654 -0.00617895 -0.00956547 ...  0.04246046  0.03389035\n",
      "  0.02604162], sr=22050 as keyword args. From version 0.10 passing these as positional arguments will result in an error\n"
     ]
    },
    {
     "name": "stdout",
     "output_type": "stream",
     "text": [
      "C:\\Users\\Diyona\\Documents\\dataset\\cat\\cat_29.wav: 0\n"
     ]
    },
    {
     "name": "stderr",
     "output_type": "stream",
     "text": [
      "C:\\Users\\Diyona\\New folder\\envs\\SDP_CSE\\lib\\site-packages\\ipykernel_launcher.py:30: FutureWarning: Pass y=[ 0.02334104  0.02660546  0.02193814 ... -0.00640763 -0.00559334\n",
      " -0.00377239], sr=22050 as keyword args. From version 0.10 passing these as positional arguments will result in an error\n"
     ]
    },
    {
     "name": "stdout",
     "output_type": "stream",
     "text": [
      "C:\\Users\\Diyona\\Documents\\dataset\\cat\\cat_3.wav: 0\n"
     ]
    },
    {
     "name": "stderr",
     "output_type": "stream",
     "text": [
      "C:\\Users\\Diyona\\New folder\\envs\\SDP_CSE\\lib\\site-packages\\ipykernel_launcher.py:30: FutureWarning: Pass y=[ 4.2434908e-03  2.0077025e-05 -7.0441510e-03 ... -1.4159519e-02\n",
      " -2.4222571e-02 -3.3081144e-02], sr=22050 as keyword args. From version 0.10 passing these as positional arguments will result in an error\n"
     ]
    },
    {
     "name": "stdout",
     "output_type": "stream",
     "text": [
      "C:\\Users\\Diyona\\Documents\\dataset\\cat\\cat_30.wav: 0\n"
     ]
    },
    {
     "name": "stderr",
     "output_type": "stream",
     "text": [
      "C:\\Users\\Diyona\\New folder\\envs\\SDP_CSE\\lib\\site-packages\\ipykernel_launcher.py:30: FutureWarning: Pass y=[-0.01210287 -0.01580858 -0.01484117 ... -0.00882077 -0.01042612\n",
      " -0.00868467], sr=22050 as keyword args. From version 0.10 passing these as positional arguments will result in an error\n"
     ]
    },
    {
     "name": "stdout",
     "output_type": "stream",
     "text": [
      "C:\\Users\\Diyona\\Documents\\dataset\\cat\\cat_31.wav: 0\n"
     ]
    },
    {
     "name": "stderr",
     "output_type": "stream",
     "text": [
      "C:\\Users\\Diyona\\New folder\\envs\\SDP_CSE\\lib\\site-packages\\ipykernel_launcher.py:30: FutureWarning: Pass y=[ 0.          0.          0.         ... -0.06500661  0.00381394\n",
      "  0.07618848], sr=22050 as keyword args. From version 0.10 passing these as positional arguments will result in an error\n"
     ]
    },
    {
     "name": "stdout",
     "output_type": "stream",
     "text": [
      "C:\\Users\\Diyona\\Documents\\dataset\\cat\\cat_32.wav: 0\n"
     ]
    },
    {
     "name": "stderr",
     "output_type": "stream",
     "text": [
      "C:\\Users\\Diyona\\New folder\\envs\\SDP_CSE\\lib\\site-packages\\ipykernel_launcher.py:30: FutureWarning: Pass y=[-0.00572473 -0.00231053  0.00217712 ... -0.00140818  0.00842364\n",
      "  0.00143683], sr=22050 as keyword args. From version 0.10 passing these as positional arguments will result in an error\n"
     ]
    },
    {
     "name": "stdout",
     "output_type": "stream",
     "text": [
      "C:\\Users\\Diyona\\Documents\\dataset\\cat\\cat_33.wav: 0\n"
     ]
    },
    {
     "name": "stderr",
     "output_type": "stream",
     "text": [
      "C:\\Users\\Diyona\\New folder\\envs\\SDP_CSE\\lib\\site-packages\\ipykernel_launcher.py:30: FutureWarning: Pass y=[ 0.          0.          0.         ... -0.00292891 -0.0047746\n",
      " -0.00582413], sr=22050 as keyword args. From version 0.10 passing these as positional arguments will result in an error\n"
     ]
    },
    {
     "name": "stdout",
     "output_type": "stream",
     "text": [
      "C:\\Users\\Diyona\\Documents\\dataset\\cat\\cat_34.wav: 0\n"
     ]
    },
    {
     "name": "stderr",
     "output_type": "stream",
     "text": [
      "C:\\Users\\Diyona\\New folder\\envs\\SDP_CSE\\lib\\site-packages\\ipykernel_launcher.py:30: FutureWarning: Pass y=[-0.01003483 -0.01139394 -0.00954273 ...  0.01589595  0.01421597\n",
      "  0.0124309 ], sr=22050 as keyword args. From version 0.10 passing these as positional arguments will result in an error\n"
     ]
    },
    {
     "name": "stdout",
     "output_type": "stream",
     "text": [
      "C:\\Users\\Diyona\\Documents\\dataset\\cat\\cat_35.wav: 0\n"
     ]
    },
    {
     "name": "stderr",
     "output_type": "stream",
     "text": [
      "C:\\Users\\Diyona\\New folder\\envs\\SDP_CSE\\lib\\site-packages\\ipykernel_launcher.py:30: FutureWarning: Pass y=[-0.02570769 -0.04192621 -0.05334014 ...  0.00642964  0.00723994\n",
      "  0.00783849], sr=22050 as keyword args. From version 0.10 passing these as positional arguments will result in an error\n"
     ]
    },
    {
     "name": "stdout",
     "output_type": "stream",
     "text": [
      "C:\\Users\\Diyona\\Documents\\dataset\\cat\\cat_36.wav: 0\n"
     ]
    },
    {
     "name": "stderr",
     "output_type": "stream",
     "text": [
      "C:\\Users\\Diyona\\New folder\\envs\\SDP_CSE\\lib\\site-packages\\ipykernel_launcher.py:30: FutureWarning: Pass y=[ 0.00235624  0.00116154 -0.00018034 ... -0.00592535 -0.00381497\n",
      " -0.00297785], sr=22050 as keyword args. From version 0.10 passing these as positional arguments will result in an error\n"
     ]
    },
    {
     "name": "stdout",
     "output_type": "stream",
     "text": [
      "C:\\Users\\Diyona\\Documents\\dataset\\cat\\cat_37.wav: 0\n"
     ]
    },
    {
     "name": "stderr",
     "output_type": "stream",
     "text": [
      "C:\\Users\\Diyona\\New folder\\envs\\SDP_CSE\\lib\\site-packages\\ipykernel_launcher.py:30: FutureWarning: Pass y=[0.         0.         0.         ... 0.3080601  0.29795852 0.29468012], sr=22050 as keyword args. From version 0.10 passing these as positional arguments will result in an error\n"
     ]
    },
    {
     "name": "stdout",
     "output_type": "stream",
     "text": [
      "C:\\Users\\Diyona\\Documents\\dataset\\cat\\cat_38.wav: 0\n"
     ]
    },
    {
     "name": "stderr",
     "output_type": "stream",
     "text": [
      "C:\\Users\\Diyona\\New folder\\envs\\SDP_CSE\\lib\\site-packages\\ipykernel_launcher.py:30: FutureWarning: Pass y=[0.00501466 0.00618096 0.00545428 ... 0.00075761 0.00099076 0.00094839], sr=22050 as keyword args. From version 0.10 passing these as positional arguments will result in an error\n",
      "C:\\Users\\Diyona\\New folder\\envs\\SDP_CSE\\lib\\site-packages\\ipykernel_launcher.py:30: FutureWarning: Pass y=[ 0.          0.          0.         ... -0.09373002 -0.08820231\n",
      " -0.08188769], sr=22050 as keyword args. From version 0.10 passing these as positional arguments will result in an error\n"
     ]
    },
    {
     "name": "stdout",
     "output_type": "stream",
     "text": [
      "C:\\Users\\Diyona\\Documents\\dataset\\cat\\cat_39.wav: 0\n",
      "C:\\Users\\Diyona\\Documents\\dataset\\cat\\cat_4.wav: 0\n"
     ]
    },
    {
     "name": "stderr",
     "output_type": "stream",
     "text": [
      "C:\\Users\\Diyona\\New folder\\envs\\SDP_CSE\\lib\\site-packages\\ipykernel_launcher.py:30: FutureWarning: Pass y=[0.00512904 0.00627852 0.00579192 ... 0.00943855 0.00982755 0.00962363], sr=22050 as keyword args. From version 0.10 passing these as positional arguments will result in an error\n"
     ]
    },
    {
     "name": "stdout",
     "output_type": "stream",
     "text": [
      "C:\\Users\\Diyona\\Documents\\dataset\\cat\\cat_40.wav: 0\n"
     ]
    },
    {
     "name": "stderr",
     "output_type": "stream",
     "text": [
      "C:\\Users\\Diyona\\New folder\\envs\\SDP_CSE\\lib\\site-packages\\ipykernel_launcher.py:30: FutureWarning: Pass y=[-0.01986312 -0.02268855 -0.01947083 ...  0.00026856 -0.00191556\n",
      " -0.00963101], sr=22050 as keyword args. From version 0.10 passing these as positional arguments will result in an error\n"
     ]
    },
    {
     "name": "stdout",
     "output_type": "stream",
     "text": [
      "C:\\Users\\Diyona\\Documents\\dataset\\cat\\cat_41.wav: 0\n"
     ]
    },
    {
     "name": "stderr",
     "output_type": "stream",
     "text": [
      "C:\\Users\\Diyona\\New folder\\envs\\SDP_CSE\\lib\\site-packages\\ipykernel_launcher.py:30: FutureWarning: Pass y=[0.         0.         0.         ... 0.02887554 0.03092319 0.03031239], sr=22050 as keyword args. From version 0.10 passing these as positional arguments will result in an error\n"
     ]
    },
    {
     "name": "stdout",
     "output_type": "stream",
     "text": [
      "C:\\Users\\Diyona\\Documents\\dataset\\cat\\cat_42.wav: 0\n"
     ]
    },
    {
     "name": "stderr",
     "output_type": "stream",
     "text": [
      "C:\\Users\\Diyona\\New folder\\envs\\SDP_CSE\\lib\\site-packages\\ipykernel_launcher.py:30: FutureWarning: Pass y=[-0.00737175 -0.01004348 -0.00892053 ...  0.01779838  0.0041849\n",
      " -0.00420145], sr=22050 as keyword args. From version 0.10 passing these as positional arguments will result in an error\n"
     ]
    },
    {
     "name": "stdout",
     "output_type": "stream",
     "text": [
      "C:\\Users\\Diyona\\Documents\\dataset\\cat\\cat_43.wav: 0\n"
     ]
    },
    {
     "name": "stderr",
     "output_type": "stream",
     "text": [
      "C:\\Users\\Diyona\\New folder\\envs\\SDP_CSE\\lib\\site-packages\\ipykernel_launcher.py:30: FutureWarning: Pass y=[0.00173815 0.00318986 0.00847096 ... 0.09380022 0.0894115  0.08595078], sr=22050 as keyword args. From version 0.10 passing these as positional arguments will result in an error\n"
     ]
    },
    {
     "name": "stdout",
     "output_type": "stream",
     "text": [
      "C:\\Users\\Diyona\\Documents\\dataset\\cat\\cat_44.wav: 0\n"
     ]
    },
    {
     "name": "stderr",
     "output_type": "stream",
     "text": [
      "C:\\Users\\Diyona\\New folder\\envs\\SDP_CSE\\lib\\site-packages\\ipykernel_launcher.py:30: FutureWarning: Pass y=[-3.29688919e-05 -9.85275838e-05 -1.15804716e-04 ... -6.11715466e-02\n",
      " -1.04563721e-01 -1.32515118e-01], sr=22050 as keyword args. From version 0.10 passing these as positional arguments will result in an error\n"
     ]
    },
    {
     "name": "stdout",
     "output_type": "stream",
     "text": [
      "C:\\Users\\Diyona\\Documents\\dataset\\cat\\cat_45.wav: 0\n"
     ]
    },
    {
     "name": "stderr",
     "output_type": "stream",
     "text": [
      "C:\\Users\\Diyona\\New folder\\envs\\SDP_CSE\\lib\\site-packages\\ipykernel_launcher.py:30: FutureWarning: Pass y=[0.00311164 0.00357655 0.00276696 ... 0.0027936  0.00304288 0.00297614], sr=22050 as keyword args. From version 0.10 passing these as positional arguments will result in an error\n"
     ]
    },
    {
     "name": "stdout",
     "output_type": "stream",
     "text": [
      "C:\\Users\\Diyona\\Documents\\dataset\\cat\\cat_46.wav: 0\n"
     ]
    },
    {
     "name": "stderr",
     "output_type": "stream",
     "text": [
      "C:\\Users\\Diyona\\New folder\\envs\\SDP_CSE\\lib\\site-packages\\ipykernel_launcher.py:30: FutureWarning: Pass y=[-1.4795585e-01 -1.3530745e-01 -3.7126277e-02 ...  5.4192130e-04\n",
      "  3.0177784e-05 -1.6940093e-04], sr=22050 as keyword args. From version 0.10 passing these as positional arguments will result in an error\n"
     ]
    },
    {
     "name": "stdout",
     "output_type": "stream",
     "text": [
      "C:\\Users\\Diyona\\Documents\\dataset\\cat\\cat_47.wav: 0\n"
     ]
    },
    {
     "name": "stderr",
     "output_type": "stream",
     "text": [
      "C:\\Users\\Diyona\\New folder\\envs\\SDP_CSE\\lib\\site-packages\\ipykernel_launcher.py:30: FutureWarning: Pass y=[-0.36809683 -0.2285297   0.0877735  ... -0.00062396 -0.00073091\n",
      " -0.0008832 ], sr=22050 as keyword args. From version 0.10 passing these as positional arguments will result in an error\n"
     ]
    },
    {
     "name": "stdout",
     "output_type": "stream",
     "text": [
      "C:\\Users\\Diyona\\Documents\\dataset\\cat\\cat_48.wav: 0\n"
     ]
    },
    {
     "name": "stderr",
     "output_type": "stream",
     "text": [
      "C:\\Users\\Diyona\\New folder\\envs\\SDP_CSE\\lib\\site-packages\\ipykernel_launcher.py:30: FutureWarning: Pass y=[0. 0. 0. ... 0. 0. 0.], sr=22050 as keyword args. From version 0.10 passing these as positional arguments will result in an error\n"
     ]
    },
    {
     "name": "stdout",
     "output_type": "stream",
     "text": [
      "C:\\Users\\Diyona\\Documents\\dataset\\cat\\cat_49.wav: 0\n"
     ]
    },
    {
     "name": "stderr",
     "output_type": "stream",
     "text": [
      "C:\\Users\\Diyona\\New folder\\envs\\SDP_CSE\\lib\\site-packages\\ipykernel_launcher.py:30: FutureWarning: Pass y=[0.         0.         0.         ... 0.00210071 0.00634609 0.00595298], sr=22050 as keyword args. From version 0.10 passing these as positional arguments will result in an error\n"
     ]
    },
    {
     "name": "stdout",
     "output_type": "stream",
     "text": [
      "C:\\Users\\Diyona\\Documents\\dataset\\cat\\cat_5.wav: 0\n"
     ]
    },
    {
     "name": "stderr",
     "output_type": "stream",
     "text": [
      "C:\\Users\\Diyona\\New folder\\envs\\SDP_CSE\\lib\\site-packages\\ipykernel_launcher.py:30: FutureWarning: Pass y=[0.         0.         0.         ... 0.1740806  0.22559859 0.24939497], sr=22050 as keyword args. From version 0.10 passing these as positional arguments will result in an error\n"
     ]
    },
    {
     "name": "stdout",
     "output_type": "stream",
     "text": [
      "C:\\Users\\Diyona\\Documents\\dataset\\cat\\cat_50.wav: 0\n"
     ]
    },
    {
     "name": "stderr",
     "output_type": "stream",
     "text": [
      "C:\\Users\\Diyona\\New folder\\envs\\SDP_CSE\\lib\\site-packages\\ipykernel_launcher.py:30: FutureWarning: Pass y=[-0.00487161 -0.01958091 -0.04423069 ...  0.12944973  0.12742198\n",
      "  0.07657143], sr=22050 as keyword args. From version 0.10 passing these as positional arguments will result in an error\n"
     ]
    },
    {
     "name": "stdout",
     "output_type": "stream",
     "text": [
      "C:\\Users\\Diyona\\Documents\\dataset\\cat\\cat_51.wav: 0\n"
     ]
    },
    {
     "name": "stderr",
     "output_type": "stream",
     "text": [
      "C:\\Users\\Diyona\\New folder\\envs\\SDP_CSE\\lib\\site-packages\\ipykernel_launcher.py:30: FutureWarning: Pass y=[ 0.00895342  0.01479633  0.01851051 ... -0.00154898 -0.00111789\n",
      " -0.0004549 ], sr=22050 as keyword args. From version 0.10 passing these as positional arguments will result in an error\n",
      "C:\\Users\\Diyona\\New folder\\envs\\SDP_CSE\\lib\\site-packages\\ipykernel_launcher.py:30: FutureWarning: Pass y=[ 0.          0.          0.         ... -0.09505574 -0.08902087\n",
      " -0.08643251], sr=22050 as keyword args. From version 0.10 passing these as positional arguments will result in an error\n"
     ]
    },
    {
     "name": "stdout",
     "output_type": "stream",
     "text": [
      "C:\\Users\\Diyona\\Documents\\dataset\\cat\\cat_52.wav: 0\n",
      "C:\\Users\\Diyona\\Documents\\dataset\\cat\\cat_53.wav: 0\n"
     ]
    },
    {
     "name": "stderr",
     "output_type": "stream",
     "text": [
      "C:\\Users\\Diyona\\New folder\\envs\\SDP_CSE\\lib\\site-packages\\ipykernel_launcher.py:30: FutureWarning: Pass y=[ 0.0138627   0.01738321  0.01558792 ...  0.00543979 -0.00113738\n",
      " -0.00672384], sr=22050 as keyword args. From version 0.10 passing these as positional arguments will result in an error\n"
     ]
    },
    {
     "name": "stdout",
     "output_type": "stream",
     "text": [
      "C:\\Users\\Diyona\\Documents\\dataset\\cat\\cat_54.wav: 0\n"
     ]
    },
    {
     "name": "stderr",
     "output_type": "stream",
     "text": [
      "C:\\Users\\Diyona\\New folder\\envs\\SDP_CSE\\lib\\site-packages\\ipykernel_launcher.py:30: FutureWarning: Pass y=[ 0.          0.          0.         ... -0.21107422 -0.20918617\n",
      " -0.15429078], sr=22050 as keyword args. From version 0.10 passing these as positional arguments will result in an error\n"
     ]
    },
    {
     "name": "stdout",
     "output_type": "stream",
     "text": [
      "C:\\Users\\Diyona\\Documents\\dataset\\cat\\cat_56.wav: 0\n"
     ]
    },
    {
     "name": "stderr",
     "output_type": "stream",
     "text": [
      "C:\\Users\\Diyona\\New folder\\envs\\SDP_CSE\\lib\\site-packages\\ipykernel_launcher.py:30: FutureWarning: Pass y=[0.         0.         0.         ... 0.05754433 0.04049416 0.02386479], sr=22050 as keyword args. From version 0.10 passing these as positional arguments will result in an error\n"
     ]
    },
    {
     "name": "stdout",
     "output_type": "stream",
     "text": [
      "C:\\Users\\Diyona\\Documents\\dataset\\cat\\cat_57.wav: 0\n"
     ]
    },
    {
     "name": "stderr",
     "output_type": "stream",
     "text": [
      "C:\\Users\\Diyona\\New folder\\envs\\SDP_CSE\\lib\\site-packages\\ipykernel_launcher.py:30: FutureWarning: Pass y=[-0.01972596 -0.02545965 -0.0264508  ... -0.02334757 -0.03330673\n",
      " -0.02678384], sr=22050 as keyword args. From version 0.10 passing these as positional arguments will result in an error\n"
     ]
    },
    {
     "name": "stdout",
     "output_type": "stream",
     "text": [
      "C:\\Users\\Diyona\\Documents\\dataset\\cat\\cat_58.wav: 0\n"
     ]
    },
    {
     "name": "stderr",
     "output_type": "stream",
     "text": [
      "C:\\Users\\Diyona\\New folder\\envs\\SDP_CSE\\lib\\site-packages\\ipykernel_launcher.py:30: FutureWarning: Pass y=[-0.0035336  -0.01594581 -0.02425143 ... -0.24231358 -0.16208073\n",
      " -0.06818891], sr=22050 as keyword args. From version 0.10 passing these as positional arguments will result in an error\n"
     ]
    },
    {
     "name": "stdout",
     "output_type": "stream",
     "text": [
      "C:\\Users\\Diyona\\Documents\\dataset\\cat\\cat_59.wav: 0\n"
     ]
    },
    {
     "name": "stderr",
     "output_type": "stream",
     "text": [
      "C:\\Users\\Diyona\\New folder\\envs\\SDP_CSE\\lib\\site-packages\\ipykernel_launcher.py:30: FutureWarning: Pass y=[0.00212174 0.00075649 0.00095759 ... 0.00392053 0.00394376 0.00402169], sr=22050 as keyword args. From version 0.10 passing these as positional arguments will result in an error\n"
     ]
    },
    {
     "name": "stdout",
     "output_type": "stream",
     "text": [
      "C:\\Users\\Diyona\\Documents\\dataset\\cat\\cat_6.wav: 0\n"
     ]
    },
    {
     "name": "stderr",
     "output_type": "stream",
     "text": [
      "C:\\Users\\Diyona\\New folder\\envs\\SDP_CSE\\lib\\site-packages\\ipykernel_launcher.py:30: FutureWarning: Pass y=[0.         0.         0.         ... 0.07519592 0.07493536 0.07502256], sr=22050 as keyword args. From version 0.10 passing these as positional arguments will result in an error\n"
     ]
    },
    {
     "name": "stdout",
     "output_type": "stream",
     "text": [
      "C:\\Users\\Diyona\\Documents\\dataset\\cat\\cat_60.wav: 0\n"
     ]
    },
    {
     "name": "stderr",
     "output_type": "stream",
     "text": [
      "C:\\Users\\Diyona\\New folder\\envs\\SDP_CSE\\lib\\site-packages\\ipykernel_launcher.py:30: FutureWarning: Pass y=[-5.0968868e-03 -3.3706534e-03  5.7423953e-05 ... -1.1947074e-03\n",
      " -1.7964946e-03 -2.4734284e-03], sr=22050 as keyword args. From version 0.10 passing these as positional arguments will result in an error\n"
     ]
    },
    {
     "name": "stdout",
     "output_type": "stream",
     "text": [
      "C:\\Users\\Diyona\\Documents\\dataset\\cat\\cat_61.wav: 0\n"
     ]
    },
    {
     "name": "stderr",
     "output_type": "stream",
     "text": [
      "C:\\Users\\Diyona\\New folder\\envs\\SDP_CSE\\lib\\site-packages\\ipykernel_launcher.py:30: FutureWarning: Pass y=[-0.14266194 -0.16515066 -0.13244116 ... -0.00289767 -0.00053957\n",
      "  0.00091681], sr=22050 as keyword args. From version 0.10 passing these as positional arguments will result in an error\n"
     ]
    },
    {
     "name": "stdout",
     "output_type": "stream",
     "text": [
      "C:\\Users\\Diyona\\Documents\\dataset\\cat\\cat_62.wav: 0\n"
     ]
    },
    {
     "name": "stderr",
     "output_type": "stream",
     "text": [
      "C:\\Users\\Diyona\\New folder\\envs\\SDP_CSE\\lib\\site-packages\\ipykernel_launcher.py:30: FutureWarning: Pass y=[0.01264995 0.01389068 0.01071922 ... 0.00274218 0.0062638  0.0053821 ], sr=22050 as keyword args. From version 0.10 passing these as positional arguments will result in an error\n"
     ]
    },
    {
     "name": "stdout",
     "output_type": "stream",
     "text": [
      "C:\\Users\\Diyona\\Documents\\dataset\\cat\\cat_63.wav: 0\n"
     ]
    },
    {
     "name": "stderr",
     "output_type": "stream",
     "text": [
      "C:\\Users\\Diyona\\New folder\\envs\\SDP_CSE\\lib\\site-packages\\ipykernel_launcher.py:30: FutureWarning: Pass y=[ 0.          0.          0.         ...  0.00066976 -0.00455104\n",
      " -0.00656095], sr=22050 as keyword args. From version 0.10 passing these as positional arguments will result in an error\n"
     ]
    },
    {
     "name": "stdout",
     "output_type": "stream",
     "text": [
      "C:\\Users\\Diyona\\Documents\\dataset\\cat\\cat_64.wav: 0\n"
     ]
    },
    {
     "name": "stderr",
     "output_type": "stream",
     "text": [
      "C:\\Users\\Diyona\\New folder\\envs\\SDP_CSE\\lib\\site-packages\\ipykernel_launcher.py:30: FutureWarning: Pass y=[ 0.00304255  0.00289202  0.0039212  ... -0.00227949 -0.00233533\n",
      " -0.00161197], sr=22050 as keyword args. From version 0.10 passing these as positional arguments will result in an error\n"
     ]
    },
    {
     "name": "stdout",
     "output_type": "stream",
     "text": [
      "C:\\Users\\Diyona\\Documents\\dataset\\cat\\cat_65.wav: 0\n"
     ]
    },
    {
     "name": "stderr",
     "output_type": "stream",
     "text": [
      "C:\\Users\\Diyona\\New folder\\envs\\SDP_CSE\\lib\\site-packages\\ipykernel_launcher.py:30: FutureWarning: Pass y=[-5.3456688e-04  3.6235081e-04  7.1341651e-07 ...  1.5969401e-02\n",
      "  7.9646157e-03  4.1566551e-02], sr=22050 as keyword args. From version 0.10 passing these as positional arguments will result in an error\n"
     ]
    },
    {
     "name": "stdout",
     "output_type": "stream",
     "text": [
      "C:\\Users\\Diyona\\Documents\\dataset\\cat\\cat_66.wav: 0\n",
      "C:\\Users\\Diyona\\Documents\\dataset\\cat\\cat_68.wav: 0\n"
     ]
    },
    {
     "name": "stderr",
     "output_type": "stream",
     "text": [
      "C:\\Users\\Diyona\\New folder\\envs\\SDP_CSE\\lib\\site-packages\\ipykernel_launcher.py:30: FutureWarning: Pass y=[0.         0.         0.         ... 0.00616187 0.00627729 0.0065567 ], sr=22050 as keyword args. From version 0.10 passing these as positional arguments will result in an error\n"
     ]
    },
    {
     "name": "stdout",
     "output_type": "stream",
     "text": [
      "C:\\Users\\Diyona\\Documents\\dataset\\cat\\cat_69.wav: 0\n"
     ]
    },
    {
     "name": "stderr",
     "output_type": "stream",
     "text": [
      "C:\\Users\\Diyona\\New folder\\envs\\SDP_CSE\\lib\\site-packages\\ipykernel_launcher.py:30: FutureWarning: Pass y=[0.0034665  0.00330464 0.00140859 ... 0.00382591 0.00441591 0.00460861], sr=22050 as keyword args. From version 0.10 passing these as positional arguments will result in an error\n",
      "C:\\Users\\Diyona\\New folder\\envs\\SDP_CSE\\lib\\site-packages\\ipykernel_launcher.py:30: FutureWarning: Pass y=[ 0.01451076  0.01734228  0.01461907 ... -0.2952713  -0.28216764\n",
      " -0.29676387], sr=22050 as keyword args. From version 0.10 passing these as positional arguments will result in an error\n"
     ]
    },
    {
     "name": "stdout",
     "output_type": "stream",
     "text": [
      "C:\\Users\\Diyona\\Documents\\dataset\\cat\\cat_7.wav: 0\n",
      "C:\\Users\\Diyona\\Documents\\dataset\\cat\\cat_70.wav: 0\n"
     ]
    },
    {
     "name": "stderr",
     "output_type": "stream",
     "text": [
      "C:\\Users\\Diyona\\New folder\\envs\\SDP_CSE\\lib\\site-packages\\ipykernel_launcher.py:30: FutureWarning: Pass y=[-0.00707923 -0.00926698 -0.00888704 ...  0.01968421  0.01182104\n",
      "  0.01084048], sr=22050 as keyword args. From version 0.10 passing these as positional arguments will result in an error\n"
     ]
    },
    {
     "name": "stdout",
     "output_type": "stream",
     "text": [
      "C:\\Users\\Diyona\\Documents\\dataset\\cat\\cat_71.wav: 0\n"
     ]
    },
    {
     "name": "stderr",
     "output_type": "stream",
     "text": [
      "C:\\Users\\Diyona\\New folder\\envs\\SDP_CSE\\lib\\site-packages\\ipykernel_launcher.py:30: FutureWarning: Pass y=[ 0.00145492  0.00131802  0.00049413 ... -0.01350942 -0.0149451\n",
      " -0.01474956], sr=22050 as keyword args. From version 0.10 passing these as positional arguments will result in an error\n"
     ]
    },
    {
     "name": "stdout",
     "output_type": "stream",
     "text": [
      "C:\\Users\\Diyona\\Documents\\dataset\\cat\\cat_72.wav: 0\n"
     ]
    },
    {
     "name": "stderr",
     "output_type": "stream",
     "text": [
      "C:\\Users\\Diyona\\New folder\\envs\\SDP_CSE\\lib\\site-packages\\ipykernel_launcher.py:30: FutureWarning: Pass y=[-0.00682123 -0.00570414 -0.00768095 ... -0.19796973 -0.35740077\n",
      " -0.30409136], sr=22050 as keyword args. From version 0.10 passing these as positional arguments will result in an error\n"
     ]
    },
    {
     "name": "stdout",
     "output_type": "stream",
     "text": [
      "C:\\Users\\Diyona\\Documents\\dataset\\cat\\cat_73.wav: 0\n"
     ]
    },
    {
     "name": "stderr",
     "output_type": "stream",
     "text": [
      "C:\\Users\\Diyona\\New folder\\envs\\SDP_CSE\\lib\\site-packages\\ipykernel_launcher.py:30: FutureWarning: Pass y=[-0.00721172 -0.00734984 -0.00498303 ... -0.04399246 -0.04579305\n",
      " -0.04045783], sr=22050 as keyword args. From version 0.10 passing these as positional arguments will result in an error\n"
     ]
    },
    {
     "name": "stdout",
     "output_type": "stream",
     "text": [
      "C:\\Users\\Diyona\\Documents\\dataset\\cat\\cat_74.wav: 0\n"
     ]
    },
    {
     "name": "stderr",
     "output_type": "stream",
     "text": [
      "C:\\Users\\Diyona\\New folder\\envs\\SDP_CSE\\lib\\site-packages\\ipykernel_launcher.py:30: FutureWarning: Pass y=[-4.7457097e-06 -7.4985175e-05 -8.1569124e-05 ...  5.2651316e-01\n",
      "  4.2706510e-01  1.5619758e-01], sr=22050 as keyword args. From version 0.10 passing these as positional arguments will result in an error\n",
      "C:\\Users\\Diyona\\New folder\\envs\\SDP_CSE\\lib\\site-packages\\ipykernel_launcher.py:30: FutureWarning: Pass y=[ 0.          0.          0.         ... -0.00385161 -0.00313274\n",
      " -0.00234284], sr=22050 as keyword args. From version 0.10 passing these as positional arguments will result in an error\n"
     ]
    },
    {
     "name": "stdout",
     "output_type": "stream",
     "text": [
      "C:\\Users\\Diyona\\Documents\\dataset\\cat\\cat_75.wav: 0\n",
      "C:\\Users\\Diyona\\Documents\\dataset\\cat\\cat_76.wav: 0\n"
     ]
    },
    {
     "name": "stderr",
     "output_type": "stream",
     "text": [
      "C:\\Users\\Diyona\\New folder\\envs\\SDP_CSE\\lib\\site-packages\\ipykernel_launcher.py:30: FutureWarning: Pass y=[-0.01445849 -0.0161181  -0.01338842 ... -0.39390194 -0.36421412\n",
      " -0.30635607], sr=22050 as keyword args. From version 0.10 passing these as positional arguments will result in an error\n"
     ]
    },
    {
     "name": "stdout",
     "output_type": "stream",
     "text": [
      "C:\\Users\\Diyona\\Documents\\dataset\\cat\\cat_77.wav: 0\n"
     ]
    },
    {
     "name": "stderr",
     "output_type": "stream",
     "text": [
      "C:\\Users\\Diyona\\New folder\\envs\\SDP_CSE\\lib\\site-packages\\ipykernel_launcher.py:30: FutureWarning: Pass y=[ 0.          0.          0.         ... -0.10626201 -0.11062155\n",
      " -0.10917545], sr=22050 as keyword args. From version 0.10 passing these as positional arguments will result in an error\n"
     ]
    },
    {
     "name": "stdout",
     "output_type": "stream",
     "text": [
      "C:\\Users\\Diyona\\Documents\\dataset\\cat\\cat_78.wav: 0\n"
     ]
    },
    {
     "name": "stderr",
     "output_type": "stream",
     "text": [
      "C:\\Users\\Diyona\\New folder\\envs\\SDP_CSE\\lib\\site-packages\\ipykernel_launcher.py:30: FutureWarning: Pass y=[-0.00042171 -0.00055752 -0.00053116 ... -0.00058617 -0.00022106\n",
      "  0.00027492], sr=22050 as keyword args. From version 0.10 passing these as positional arguments will result in an error\n",
      "C:\\Users\\Diyona\\New folder\\envs\\SDP_CSE\\lib\\site-packages\\ipykernel_launcher.py:30: FutureWarning: Pass y=[-0.00265953 -0.00155334 -0.00188707 ...  0.01600701  0.01915617\n",
      "  0.0119239 ], sr=22050 as keyword args. From version 0.10 passing these as positional arguments will result in an error\n"
     ]
    },
    {
     "name": "stdout",
     "output_type": "stream",
     "text": [
      "C:\\Users\\Diyona\\Documents\\dataset\\cat\\cat_79.wav: 0\n",
      "C:\\Users\\Diyona\\Documents\\dataset\\cat\\cat_8.wav: 0\n"
     ]
    },
    {
     "name": "stderr",
     "output_type": "stream",
     "text": [
      "C:\\Users\\Diyona\\New folder\\envs\\SDP_CSE\\lib\\site-packages\\ipykernel_launcher.py:30: FutureWarning: Pass y=[ 0.00032733  0.00044     0.00037975 ... -0.0097189  -0.03453929\n",
      " -0.05322569], sr=22050 as keyword args. From version 0.10 passing these as positional arguments will result in an error\n"
     ]
    },
    {
     "name": "stdout",
     "output_type": "stream",
     "text": [
      "C:\\Users\\Diyona\\Documents\\dataset\\cat\\cat_80.wav: 0\n"
     ]
    },
    {
     "name": "stderr",
     "output_type": "stream",
     "text": [
      "C:\\Users\\Diyona\\New folder\\envs\\SDP_CSE\\lib\\site-packages\\ipykernel_launcher.py:30: FutureWarning: Pass y=[-0.04270994 -0.00443735  0.08582949 ... -0.07278987 -0.05678594\n",
      " -0.0303694 ], sr=22050 as keyword args. From version 0.10 passing these as positional arguments will result in an error\n"
     ]
    },
    {
     "name": "stdout",
     "output_type": "stream",
     "text": [
      "C:\\Users\\Diyona\\Documents\\dataset\\cat\\cat_81.wav: 0\n"
     ]
    },
    {
     "name": "stderr",
     "output_type": "stream",
     "text": [
      "C:\\Users\\Diyona\\New folder\\envs\\SDP_CSE\\lib\\site-packages\\ipykernel_launcher.py:30: FutureWarning: Pass y=[ 0.03700666  0.01069604 -0.02665153 ... -0.03395697 -0.07189973\n",
      " -0.08554965], sr=22050 as keyword args. From version 0.10 passing these as positional arguments will result in an error\n",
      "C:\\Users\\Diyona\\New folder\\envs\\SDP_CSE\\lib\\site-packages\\ipykernel_launcher.py:30: FutureWarning: Pass y=[ 0.          0.          0.         ... -0.14279753 -0.08583543\n",
      "  0.00453332], sr=22050 as keyword args. From version 0.10 passing these as positional arguments will result in an error\n"
     ]
    },
    {
     "name": "stdout",
     "output_type": "stream",
     "text": [
      "C:\\Users\\Diyona\\Documents\\dataset\\cat\\cat_82.wav: 0\n",
      "C:\\Users\\Diyona\\Documents\\dataset\\cat\\cat_83.wav: 0\n"
     ]
    },
    {
     "name": "stderr",
     "output_type": "stream",
     "text": [
      "C:\\Users\\Diyona\\New folder\\envs\\SDP_CSE\\lib\\site-packages\\ipykernel_launcher.py:30: FutureWarning: Pass y=[0.         0.         0.         ... 0.1608109  0.11021899 0.04272148], sr=22050 as keyword args. From version 0.10 passing these as positional arguments will result in an error\n",
      "C:\\Users\\Diyona\\New folder\\envs\\SDP_CSE\\lib\\site-packages\\ipykernel_launcher.py:30: FutureWarning: Pass y=[ 0.00391279  0.00573559  0.00697996 ... -0.00521682 -0.00090352\n",
      "  0.00238019], sr=22050 as keyword args. From version 0.10 passing these as positional arguments will result in an error\n"
     ]
    },
    {
     "name": "stdout",
     "output_type": "stream",
     "text": [
      "C:\\Users\\Diyona\\Documents\\dataset\\cat\\cat_84.wav: 0\n",
      "C:\\Users\\Diyona\\Documents\\dataset\\cat\\cat_85.wav: 0\n"
     ]
    },
    {
     "name": "stderr",
     "output_type": "stream",
     "text": [
      "C:\\Users\\Diyona\\New folder\\envs\\SDP_CSE\\lib\\site-packages\\ipykernel_launcher.py:30: FutureWarning: Pass y=[ 0.00396337  0.00552191  0.00491064 ... -0.00208358  0.05272213\n",
      "  0.09015045], sr=22050 as keyword args. From version 0.10 passing these as positional arguments will result in an error\n"
     ]
    },
    {
     "name": "stdout",
     "output_type": "stream",
     "text": [
      "C:\\Users\\Diyona\\Documents\\dataset\\cat\\cat_86.wav: 0\n"
     ]
    },
    {
     "name": "stderr",
     "output_type": "stream",
     "text": [
      "C:\\Users\\Diyona\\New folder\\envs\\SDP_CSE\\lib\\site-packages\\ipykernel_launcher.py:30: FutureWarning: Pass y=[ 0.0098865  -0.00058593 -0.00540276 ... -0.00240077 -0.004396\n",
      " -0.00161073], sr=22050 as keyword args. From version 0.10 passing these as positional arguments will result in an error\n"
     ]
    },
    {
     "name": "stdout",
     "output_type": "stream",
     "text": [
      "C:\\Users\\Diyona\\Documents\\dataset\\cat\\cat_87.wav: 0\n"
     ]
    },
    {
     "name": "stderr",
     "output_type": "stream",
     "text": [
      "C:\\Users\\Diyona\\New folder\\envs\\SDP_CSE\\lib\\site-packages\\ipykernel_launcher.py:30: FutureWarning: Pass y=[3.3298243e-02 3.6803387e-02 2.0453593e-02 ... 4.8516224e-05 7.2055403e-04\n",
      " 1.8539708e-03], sr=22050 as keyword args. From version 0.10 passing these as positional arguments will result in an error\n"
     ]
    },
    {
     "name": "stdout",
     "output_type": "stream",
     "text": [
      "C:\\Users\\Diyona\\Documents\\dataset\\cat\\cat_88.wav: 0\n"
     ]
    },
    {
     "name": "stderr",
     "output_type": "stream",
     "text": [
      "C:\\Users\\Diyona\\New folder\\envs\\SDP_CSE\\lib\\site-packages\\ipykernel_launcher.py:30: FutureWarning: Pass y=[ 0.00054918 -0.0007411  -0.0019336  ...  0.00016523 -0.00177283\n",
      " -0.0031818 ], sr=22050 as keyword args. From version 0.10 passing these as positional arguments will result in an error\n"
     ]
    },
    {
     "name": "stdout",
     "output_type": "stream",
     "text": [
      "C:\\Users\\Diyona\\Documents\\dataset\\cat\\cat_89.wav: 0\n"
     ]
    },
    {
     "name": "stderr",
     "output_type": "stream",
     "text": [
      "C:\\Users\\Diyona\\New folder\\envs\\SDP_CSE\\lib\\site-packages\\ipykernel_launcher.py:30: FutureWarning: Pass y=[0.         0.         0.         ... 0.02439966 0.02072233 0.01322368], sr=22050 as keyword args. From version 0.10 passing these as positional arguments will result in an error\n",
      "C:\\Users\\Diyona\\New folder\\envs\\SDP_CSE\\lib\\site-packages\\ipykernel_launcher.py:30: FutureWarning: Pass y=[ 0.          0.          0.         ...  0.04060925 -0.11260919\n",
      "  0.0544241 ], sr=22050 as keyword args. From version 0.10 passing these as positional arguments will result in an error\n"
     ]
    },
    {
     "name": "stdout",
     "output_type": "stream",
     "text": [
      "C:\\Users\\Diyona\\Documents\\dataset\\cat\\cat_90.wav: 0\n",
      "C:\\Users\\Diyona\\Documents\\dataset\\cat\\cat_91.wav: 0\n"
     ]
    },
    {
     "name": "stderr",
     "output_type": "stream",
     "text": [
      "C:\\Users\\Diyona\\New folder\\envs\\SDP_CSE\\lib\\site-packages\\ipykernel_launcher.py:30: FutureWarning: Pass y=[0.         0.         0.         ... 0.01803216 0.05231785 0.07226947], sr=22050 as keyword args. From version 0.10 passing these as positional arguments will result in an error\n",
      "C:\\Users\\Diyona\\New folder\\envs\\SDP_CSE\\lib\\site-packages\\ipykernel_launcher.py:30: FutureWarning: Pass y=[ 0.          0.          0.         ... -0.14396618 -0.14718203\n",
      " -0.23810858], sr=22050 as keyword args. From version 0.10 passing these as positional arguments will result in an error\n"
     ]
    },
    {
     "name": "stdout",
     "output_type": "stream",
     "text": [
      "C:\\Users\\Diyona\\Documents\\dataset\\cat\\cat_92.wav: 0\n",
      "C:\\Users\\Diyona\\Documents\\dataset\\cat\\cat_93.wav: 0\n"
     ]
    },
    {
     "name": "stderr",
     "output_type": "stream",
     "text": [
      "C:\\Users\\Diyona\\New folder\\envs\\SDP_CSE\\lib\\site-packages\\ipykernel_launcher.py:30: FutureWarning: Pass y=[ 4.4469954e-03  6.4310250e-03  5.7322197e-03 ... -1.4892790e-03\n",
      " -3.4991417e-03 -2.8111834e-05], sr=22050 as keyword args. From version 0.10 passing these as positional arguments will result in an error\n"
     ]
    },
    {
     "name": "stdout",
     "output_type": "stream",
     "text": [
      "C:\\Users\\Diyona\\Documents\\dataset\\cat\\cat_94.wav: 0\n"
     ]
    },
    {
     "name": "stderr",
     "output_type": "stream",
     "text": [
      "C:\\Users\\Diyona\\New folder\\envs\\SDP_CSE\\lib\\site-packages\\ipykernel_launcher.py:30: FutureWarning: Pass y=[ 0.19990608  0.12040646 -0.1113679  ...  0.00756292  0.0037314\n",
      "  0.00363396], sr=22050 as keyword args. From version 0.10 passing these as positional arguments will result in an error\n"
     ]
    },
    {
     "name": "stdout",
     "output_type": "stream",
     "text": [
      "C:\\Users\\Diyona\\Documents\\dataset\\cat\\cat_95.wav: 0\n"
     ]
    },
    {
     "name": "stderr",
     "output_type": "stream",
     "text": [
      "C:\\Users\\Diyona\\New folder\\envs\\SDP_CSE\\lib\\site-packages\\ipykernel_launcher.py:30: FutureWarning: Pass y=[0.02057663 0.02583737 0.02284807 ... 0.18487576 0.18669997 0.1555277 ], sr=22050 as keyword args. From version 0.10 passing these as positional arguments will result in an error\n"
     ]
    },
    {
     "name": "stdout",
     "output_type": "stream",
     "text": [
      "C:\\Users\\Diyona\\Documents\\dataset\\cat\\cat_96.wav: 0\n"
     ]
    },
    {
     "name": "stderr",
     "output_type": "stream",
     "text": [
      "C:\\Users\\Diyona\\New folder\\envs\\SDP_CSE\\lib\\site-packages\\ipykernel_launcher.py:30: FutureWarning: Pass y=[ 0.00120992  0.00109125  0.00048076 ... -0.24013744 -0.24940391\n",
      " -0.22901423], sr=22050 as keyword args. From version 0.10 passing these as positional arguments will result in an error\n"
     ]
    },
    {
     "name": "stdout",
     "output_type": "stream",
     "text": [
      "C:\\Users\\Diyona\\Documents\\dataset\\cat\\cat_97.wav: 0\n"
     ]
    },
    {
     "name": "stderr",
     "output_type": "stream",
     "text": [
      "C:\\Users\\Diyona\\New folder\\envs\\SDP_CSE\\lib\\site-packages\\ipykernel_launcher.py:30: FutureWarning: Pass y=[ 0.0494141   0.03433933  0.0109261  ... -0.03602906 -0.0357066\n",
      " -0.04081209], sr=22050 as keyword args. From version 0.10 passing these as positional arguments will result in an error\n"
     ]
    },
    {
     "name": "stdout",
     "output_type": "stream",
     "text": [
      "C:\\Users\\Diyona\\Documents\\dataset\\cat\\cat_98.wav: 0\n"
     ]
    },
    {
     "name": "stderr",
     "output_type": "stream",
     "text": [
      "C:\\Users\\Diyona\\New folder\\envs\\SDP_CSE\\lib\\site-packages\\ipykernel_launcher.py:30: FutureWarning: Pass y=[-0.07119886 -0.06775932 -0.02912936 ...  0.11894207  0.10714652\n",
      "  0.09431814], sr=22050 as keyword args. From version 0.10 passing these as positional arguments will result in an error\n"
     ]
    },
    {
     "name": "stdout",
     "output_type": "stream",
     "text": [
      "C:\\Users\\Diyona\\Documents\\dataset\\cat\\cat_99.wav: 0\n",
      "\n",
      "Processing:'C:\\Users\\Diyona\\Documents\\dataset\\dog'\n"
     ]
    },
    {
     "name": "stderr",
     "output_type": "stream",
     "text": [
      "C:\\Users\\Diyona\\New folder\\envs\\SDP_CSE\\lib\\site-packages\\ipykernel_launcher.py:30: FutureWarning: Pass y=[-0.00038991 -0.00047151 -0.00036632 ...  0.01361567  0.00818739\n",
      "  0.00144574], sr=22050 as keyword args. From version 0.10 passing these as positional arguments will result in an error\n"
     ]
    },
    {
     "name": "stdout",
     "output_type": "stream",
     "text": [
      "C:\\Users\\Diyona\\Documents\\dataset\\dog\\dog_barking_0.wav: 1\n"
     ]
    },
    {
     "name": "stderr",
     "output_type": "stream",
     "text": [
      "C:\\Users\\Diyona\\New folder\\envs\\SDP_CSE\\lib\\site-packages\\ipykernel_launcher.py:30: FutureWarning: Pass y=[ 0.00260881  0.00167369 -0.00055374 ...  0.04719918  0.09069569\n",
      "  0.12704793], sr=22050 as keyword args. From version 0.10 passing these as positional arguments will result in an error\n",
      "C:\\Users\\Diyona\\New folder\\envs\\SDP_CSE\\lib\\site-packages\\ipykernel_launcher.py:30: FutureWarning: Pass y=[-3.2528833e-04 -6.3996068e-03 -1.1639529e-02 ... -6.1922604e-01\n",
      " -6.2640220e-01 -6.1892033e-01], sr=22050 as keyword args. From version 0.10 passing these as positional arguments will result in an error\n"
     ]
    },
    {
     "name": "stdout",
     "output_type": "stream",
     "text": [
      "C:\\Users\\Diyona\\Documents\\dataset\\dog\\dog_barking_1.wav: 1\n",
      "C:\\Users\\Diyona\\Documents\\dataset\\dog\\dog_barking_10.wav: 1\n"
     ]
    },
    {
     "name": "stderr",
     "output_type": "stream",
     "text": [
      "C:\\Users\\Diyona\\New folder\\envs\\SDP_CSE\\lib\\site-packages\\ipykernel_launcher.py:30: FutureWarning: Pass y=[ 0.00535521  0.00564651  0.00913176 ... -0.00148295 -0.00167372\n",
      " -0.00160291], sr=22050 as keyword args. From version 0.10 passing these as positional arguments will result in an error\n",
      "C:\\Users\\Diyona\\New folder\\envs\\SDP_CSE\\lib\\site-packages\\ipykernel_launcher.py:30: FutureWarning: Pass y=[0.00464124 0.00756763 0.00785688 ... 0.00175912 0.00421127 0.0055737 ], sr=22050 as keyword args. From version 0.10 passing these as positional arguments will result in an error\n"
     ]
    },
    {
     "name": "stdout",
     "output_type": "stream",
     "text": [
      "C:\\Users\\Diyona\\Documents\\dataset\\dog\\dog_barking_100.wav: 1\n",
      "C:\\Users\\Diyona\\Documents\\dataset\\dog\\dog_barking_101.wav: 1\n",
      "C:\\Users\\Diyona\\Documents\\dataset\\dog\\dog_barking_102.wav: 1\n"
     ]
    },
    {
     "name": "stderr",
     "output_type": "stream",
     "text": [
      "C:\\Users\\Diyona\\New folder\\envs\\SDP_CSE\\lib\\site-packages\\ipykernel_launcher.py:30: FutureWarning: Pass y=[ 0.00299806  0.00576817  0.00562833 ... -0.01111244 -0.0116782\n",
      " -0.01661255], sr=22050 as keyword args. From version 0.10 passing these as positional arguments will result in an error\n",
      "C:\\Users\\Diyona\\New folder\\envs\\SDP_CSE\\lib\\site-packages\\ipykernel_launcher.py:30: FutureWarning: Pass y=[-0.00054322 -0.00013998 -0.00064299 ... -0.01565341 -0.01334517\n",
      " -0.01120836], sr=22050 as keyword args. From version 0.10 passing these as positional arguments will result in an error\n"
     ]
    },
    {
     "name": "stdout",
     "output_type": "stream",
     "text": [
      "C:\\Users\\Diyona\\Documents\\dataset\\dog\\dog_barking_103.wav: 1\n"
     ]
    },
    {
     "name": "stderr",
     "output_type": "stream",
     "text": [
      "C:\\Users\\Diyona\\New folder\\envs\\SDP_CSE\\lib\\site-packages\\ipykernel_launcher.py:30: FutureWarning: Pass y=[ 2.5982819e-03  2.9672426e-03 -6.1075647e-05 ...  2.5008243e-01\n",
      "  2.7859068e-01  2.5615671e-01], sr=22050 as keyword args. From version 0.10 passing these as positional arguments will result in an error\n",
      "C:\\Users\\Diyona\\New folder\\envs\\SDP_CSE\\lib\\site-packages\\ipykernel_launcher.py:30: FutureWarning: Pass y=[ 1.1250372e-08  2.6872170e-08 -4.9586458e-08 ...  1.6115280e-05\n",
      " -4.2549851e-05  1.3337685e-04], sr=22050 as keyword args. From version 0.10 passing these as positional arguments will result in an error\n"
     ]
    },
    {
     "name": "stdout",
     "output_type": "stream",
     "text": [
      "C:\\Users\\Diyona\\Documents\\dataset\\dog\\dog_barking_104.wav: 1\n",
      "C:\\Users\\Diyona\\Documents\\dataset\\dog\\dog_barking_105.wav: 1\n"
     ]
    },
    {
     "name": "stderr",
     "output_type": "stream",
     "text": [
      "C:\\Users\\Diyona\\New folder\\envs\\SDP_CSE\\lib\\site-packages\\ipykernel_launcher.py:30: FutureWarning: Pass y=[-0.00134374 -0.00194996 -0.00223237 ...  0.02064743  0.01424772\n",
      "  0.00860456], sr=22050 as keyword args. From version 0.10 passing these as positional arguments will result in an error\n"
     ]
    },
    {
     "name": "stdout",
     "output_type": "stream",
     "text": [
      "C:\\Users\\Diyona\\Documents\\dataset\\dog\\dog_barking_106.wav: 1\n"
     ]
    },
    {
     "name": "stderr",
     "output_type": "stream",
     "text": [
      "C:\\Users\\Diyona\\New folder\\envs\\SDP_CSE\\lib\\site-packages\\ipykernel_launcher.py:30: FutureWarning: Pass y=[-0.08158432 -0.07312066 -0.05056218 ... -0.01345175 -0.08427808\n",
      " -0.15723193], sr=22050 as keyword args. From version 0.10 passing these as positional arguments will result in an error\n"
     ]
    },
    {
     "name": "stdout",
     "output_type": "stream",
     "text": [
      "C:\\Users\\Diyona\\Documents\\dataset\\dog\\dog_barking_107.wav: 1\n"
     ]
    },
    {
     "name": "stderr",
     "output_type": "stream",
     "text": [
      "C:\\Users\\Diyona\\New folder\\envs\\SDP_CSE\\lib\\site-packages\\ipykernel_launcher.py:30: FutureWarning: Pass y=[ 9.71547634e-05  3.39075457e-04 -5.25297837e-05 ... -1.43395560e-02\n",
      " -1.23849595e-02 -1.49977235e-02], sr=22050 as keyword args. From version 0.10 passing these as positional arguments will result in an error\n"
     ]
    },
    {
     "name": "stdout",
     "output_type": "stream",
     "text": [
      "C:\\Users\\Diyona\\Documents\\dataset\\dog\\dog_barking_108.wav: 1\n"
     ]
    },
    {
     "name": "stderr",
     "output_type": "stream",
     "text": [
      "C:\\Users\\Diyona\\New folder\\envs\\SDP_CSE\\lib\\site-packages\\ipykernel_launcher.py:30: FutureWarning: Pass y=[-0.00055248 -0.00085149 -0.00064135 ... -0.468935   -0.46555382\n",
      " -0.461625  ], sr=22050 as keyword args. From version 0.10 passing these as positional arguments will result in an error\n"
     ]
    },
    {
     "name": "stdout",
     "output_type": "stream",
     "text": [
      "C:\\Users\\Diyona\\Documents\\dataset\\dog\\dog_barking_109.wav: 1\n"
     ]
    },
    {
     "name": "stderr",
     "output_type": "stream",
     "text": [
      "C:\\Users\\Diyona\\New folder\\envs\\SDP_CSE\\lib\\site-packages\\ipykernel_launcher.py:30: FutureWarning: Pass y=[-0.00181575 -0.0019977  -0.00167817 ...  0.00675702  0.00650015\n",
      "  0.00640857], sr=22050 as keyword args. From version 0.10 passing these as positional arguments will result in an error\n"
     ]
    },
    {
     "name": "stdout",
     "output_type": "stream",
     "text": [
      "C:\\Users\\Diyona\\Documents\\dataset\\dog\\dog_barking_11.wav: 1\n"
     ]
    },
    {
     "name": "stderr",
     "output_type": "stream",
     "text": [
      "C:\\Users\\Diyona\\New folder\\envs\\SDP_CSE\\lib\\site-packages\\ipykernel_launcher.py:30: FutureWarning: Pass y=[0.00200863 0.00431513 0.00497486 ... 0.0042102  0.00417431 0.00436573], sr=22050 as keyword args. From version 0.10 passing these as positional arguments will result in an error\n",
      "C:\\Users\\Diyona\\New folder\\envs\\SDP_CSE\\lib\\site-packages\\ipykernel_launcher.py:30: FutureWarning: Pass y=[-0.00110522 -0.00128751 -0.00134665 ...  0.00217093  0.00215019\n",
      "  0.00213268], sr=22050 as keyword args. From version 0.10 passing these as positional arguments will result in an error\n"
     ]
    },
    {
     "name": "stdout",
     "output_type": "stream",
     "text": [
      "C:\\Users\\Diyona\\Documents\\dataset\\dog\\dog_barking_110.wav: 1\n",
      "C:\\Users\\Diyona\\Documents\\dataset\\dog\\dog_barking_111.wav: 1\n"
     ]
    },
    {
     "name": "stderr",
     "output_type": "stream",
     "text": [
      "C:\\Users\\Diyona\\New folder\\envs\\SDP_CSE\\lib\\site-packages\\ipykernel_launcher.py:30: FutureWarning: Pass y=[ 0.00968544  0.00689717 -0.00040398 ...  0.0270435   0.02608757\n",
      "  0.01675749], sr=22050 as keyword args. From version 0.10 passing these as positional arguments will result in an error\n",
      "C:\\Users\\Diyona\\New folder\\envs\\SDP_CSE\\lib\\site-packages\\ipykernel_launcher.py:30: FutureWarning: Pass y=[-0.04913892 -0.05658747 -0.04939176 ... -0.00313909 -0.00312742\n",
      " -0.00316237], sr=22050 as keyword args. From version 0.10 passing these as positional arguments will result in an error\n"
     ]
    },
    {
     "name": "stdout",
     "output_type": "stream",
     "text": [
      "C:\\Users\\Diyona\\Documents\\dataset\\dog\\dog_barking_112.wav: 1\n",
      "C:\\Users\\Diyona\\Documents\\dataset\\dog\\dog_barking_12.wav: 1\n"
     ]
    },
    {
     "name": "stderr",
     "output_type": "stream",
     "text": [
      "C:\\Users\\Diyona\\New folder\\envs\\SDP_CSE\\lib\\site-packages\\ipykernel_launcher.py:30: FutureWarning: Pass y=[-2.9200804e-05 -9.0626527e-06 -3.9403653e-06 ...  1.5715118e-02\n",
      "  2.2692736e-02  2.5625233e-02], sr=22050 as keyword args. From version 0.10 passing these as positional arguments will result in an error\n"
     ]
    },
    {
     "name": "stdout",
     "output_type": "stream",
     "text": [
      "C:\\Users\\Diyona\\Documents\\dataset\\dog\\dog_barking_13.wav: 1\n"
     ]
    },
    {
     "name": "stderr",
     "output_type": "stream",
     "text": [
      "C:\\Users\\Diyona\\New folder\\envs\\SDP_CSE\\lib\\site-packages\\ipykernel_launcher.py:30: FutureWarning: Pass y=[-8.3143008e-04 -6.5151154e-04 -7.6038938e-05 ...  4.9624600e-02\n",
      "  7.3262975e-02  8.8520922e-02], sr=22050 as keyword args. From version 0.10 passing these as positional arguments will result in an error\n"
     ]
    },
    {
     "name": "stdout",
     "output_type": "stream",
     "text": [
      "C:\\Users\\Diyona\\Documents\\dataset\\dog\\dog_barking_14.wav: 1\n",
      "C:\\Users\\Diyona\\Documents\\dataset\\dog\\dog_barking_15.wav: 1\n"
     ]
    },
    {
     "name": "stderr",
     "output_type": "stream",
     "text": [
      "C:\\Users\\Diyona\\New folder\\envs\\SDP_CSE\\lib\\site-packages\\ipykernel_launcher.py:30: FutureWarning: Pass y=[-0.01154259 -0.0128666  -0.01027496 ... -0.00352742 -0.00350255\n",
      " -0.00343357], sr=22050 as keyword args. From version 0.10 passing these as positional arguments will result in an error\n"
     ]
    },
    {
     "name": "stdout",
     "output_type": "stream",
     "text": [
      "C:\\Users\\Diyona\\Documents\\dataset\\dog\\dog_barking_16.wav: 1\n"
     ]
    },
    {
     "name": "stderr",
     "output_type": "stream",
     "text": [
      "C:\\Users\\Diyona\\New folder\\envs\\SDP_CSE\\lib\\site-packages\\ipykernel_launcher.py:30: FutureWarning: Pass y=[-0.00029641 -0.00011427  0.00018843 ...  0.02593865  0.0274702\n",
      "  0.02676139], sr=22050 as keyword args. From version 0.10 passing these as positional arguments will result in an error\n"
     ]
    },
    {
     "name": "stdout",
     "output_type": "stream",
     "text": [
      "C:\\Users\\Diyona\\Documents\\dataset\\dog\\dog_barking_17.wav: 1\n"
     ]
    },
    {
     "name": "stderr",
     "output_type": "stream",
     "text": [
      "C:\\Users\\Diyona\\New folder\\envs\\SDP_CSE\\lib\\site-packages\\ipykernel_launcher.py:30: FutureWarning: Pass y=[-0.00708141 -0.00773519  0.00828614 ... -0.08788934 -0.09440205\n",
      " -0.05749471], sr=22050 as keyword args. From version 0.10 passing these as positional arguments will result in an error\n"
     ]
    },
    {
     "name": "stdout",
     "output_type": "stream",
     "text": [
      "C:\\Users\\Diyona\\Documents\\dataset\\dog\\dog_barking_18.wav: 1\n"
     ]
    },
    {
     "name": "stderr",
     "output_type": "stream",
     "text": [
      "C:\\Users\\Diyona\\New folder\\envs\\SDP_CSE\\lib\\site-packages\\ipykernel_launcher.py:30: FutureWarning: Pass y=[-2.1067991e-04 -3.9202158e-04 -2.7632929e-04 ...  3.0590600e-01\n",
      "  3.0719987e-01  2.9258856e-01], sr=22050 as keyword args. From version 0.10 passing these as positional arguments will result in an error\n"
     ]
    },
    {
     "name": "stdout",
     "output_type": "stream",
     "text": [
      "C:\\Users\\Diyona\\Documents\\dataset\\dog\\dog_barking_19.wav: 1\n"
     ]
    },
    {
     "name": "stderr",
     "output_type": "stream",
     "text": [
      "C:\\Users\\Diyona\\New folder\\envs\\SDP_CSE\\lib\\site-packages\\ipykernel_launcher.py:30: FutureWarning: Pass y=[-0.00332699 -0.0070627  -0.00959239 ... -0.00075389 -0.00133071\n",
      " -0.00152655], sr=22050 as keyword args. From version 0.10 passing these as positional arguments will result in an error\n"
     ]
    },
    {
     "name": "stdout",
     "output_type": "stream",
     "text": [
      "C:\\Users\\Diyona\\Documents\\dataset\\dog\\dog_barking_2.wav: 1\n"
     ]
    },
    {
     "name": "stderr",
     "output_type": "stream",
     "text": [
      "C:\\Users\\Diyona\\New folder\\envs\\SDP_CSE\\lib\\site-packages\\ipykernel_launcher.py:30: FutureWarning: Pass y=[ 2.3761347e-04  2.3900489e-04  1.0065829e-04 ... -6.9008505e-01\n",
      " -7.7256495e-01 -8.1274170e-01], sr=22050 as keyword args. From version 0.10 passing these as positional arguments will result in an error\n"
     ]
    },
    {
     "name": "stdout",
     "output_type": "stream",
     "text": [
      "C:\\Users\\Diyona\\Documents\\dataset\\dog\\dog_barking_20.wav: 1\n"
     ]
    },
    {
     "name": "stderr",
     "output_type": "stream",
     "text": [
      "C:\\Users\\Diyona\\New folder\\envs\\SDP_CSE\\lib\\site-packages\\ipykernel_launcher.py:30: FutureWarning: Pass y=[-0.001082   -0.00077824 -0.00039078 ... -0.0430402  -0.03819408\n",
      " -0.03052289], sr=22050 as keyword args. From version 0.10 passing these as positional arguments will result in an error\n",
      "C:\\Users\\Diyona\\New folder\\envs\\SDP_CSE\\lib\\site-packages\\ipykernel_launcher.py:30: FutureWarning: Pass y=[0.05112126 0.07937934 0.07613952 ... 0.07336329 0.07560613 0.07867094], sr=22050 as keyword args. From version 0.10 passing these as positional arguments will result in an error\n"
     ]
    },
    {
     "name": "stdout",
     "output_type": "stream",
     "text": [
      "C:\\Users\\Diyona\\Documents\\dataset\\dog\\dog_barking_21.wav: 1\n",
      "C:\\Users\\Diyona\\Documents\\dataset\\dog\\dog_barking_22.wav: 1\n"
     ]
    },
    {
     "name": "stderr",
     "output_type": "stream",
     "text": [
      "C:\\Users\\Diyona\\New folder\\envs\\SDP_CSE\\lib\\site-packages\\ipykernel_launcher.py:30: FutureWarning: Pass y=[0.         0.         0.         ... 0.00125997 0.00118021 0.001036  ], sr=22050 as keyword args. From version 0.10 passing these as positional arguments will result in an error\n"
     ]
    },
    {
     "name": "stdout",
     "output_type": "stream",
     "text": [
      "C:\\Users\\Diyona\\Documents\\dataset\\dog\\dog_barking_23.wav: 1\n"
     ]
    },
    {
     "name": "stderr",
     "output_type": "stream",
     "text": [
      "C:\\Users\\Diyona\\New folder\\envs\\SDP_CSE\\lib\\site-packages\\ipykernel_launcher.py:30: FutureWarning: Pass y=[ 0.00291336 -0.00197975 -0.00553092 ...  0.00421632  0.00405739\n",
      "  0.00375775], sr=22050 as keyword args. From version 0.10 passing these as positional arguments will result in an error\n"
     ]
    },
    {
     "name": "stdout",
     "output_type": "stream",
     "text": [
      "C:\\Users\\Diyona\\Documents\\dataset\\dog\\dog_barking_24.wav: 1\n"
     ]
    },
    {
     "name": "stderr",
     "output_type": "stream",
     "text": [
      "C:\\Users\\Diyona\\New folder\\envs\\SDP_CSE\\lib\\site-packages\\ipykernel_launcher.py:30: FutureWarning: Pass y=[-0.01541719  0.02490077  0.07744969 ...  0.28753322  0.22435284\n",
      "  0.10823175], sr=22050 as keyword args. From version 0.10 passing these as positional arguments will result in an error\n"
     ]
    },
    {
     "name": "stdout",
     "output_type": "stream",
     "text": [
      "C:\\Users\\Diyona\\Documents\\dataset\\dog\\dog_barking_25.wav: 1\n"
     ]
    },
    {
     "name": "stderr",
     "output_type": "stream",
     "text": [
      "C:\\Users\\Diyona\\New folder\\envs\\SDP_CSE\\lib\\site-packages\\ipykernel_launcher.py:30: FutureWarning: Pass y=[-0.00974971 -0.01367679 -0.01071091 ... -0.02830315 -0.02467778\n",
      " -0.02262104], sr=22050 as keyword args. From version 0.10 passing these as positional arguments will result in an error\n",
      "C:\\Users\\Diyona\\New folder\\envs\\SDP_CSE\\lib\\site-packages\\ipykernel_launcher.py:30: FutureWarning: Pass y=[ 0.00074632  0.0008831   0.00078632 ... -0.39045545 -0.01579023\n",
      "  0.34425324], sr=22050 as keyword args. From version 0.10 passing these as positional arguments will result in an error\n"
     ]
    },
    {
     "name": "stdout",
     "output_type": "stream",
     "text": [
      "C:\\Users\\Diyona\\Documents\\dataset\\dog\\dog_barking_26.wav: 1\n",
      "C:\\Users\\Diyona\\Documents\\dataset\\dog\\dog_barking_27.wav: 1\n"
     ]
    },
    {
     "name": "stderr",
     "output_type": "stream",
     "text": [
      "C:\\Users\\Diyona\\New folder\\envs\\SDP_CSE\\lib\\site-packages\\ipykernel_launcher.py:30: FutureWarning: Pass y=[-0.00159698 -0.00158003 -0.00096494 ... -0.01001613 -0.00944196\n",
      " -0.00870444], sr=22050 as keyword args. From version 0.10 passing these as positional arguments will result in an error\n"
     ]
    },
    {
     "name": "stdout",
     "output_type": "stream",
     "text": [
      "C:\\Users\\Diyona\\Documents\\dataset\\dog\\dog_barking_28.wav: 1\n"
     ]
    },
    {
     "name": "stderr",
     "output_type": "stream",
     "text": [
      "C:\\Users\\Diyona\\New folder\\envs\\SDP_CSE\\lib\\site-packages\\ipykernel_launcher.py:30: FutureWarning: Pass y=[-1.1857220e-06 -2.4819208e-05 -2.1461312e-05 ...  3.6177954e-01\n",
      "  3.5738659e-01  3.4834614e-01], sr=22050 as keyword args. From version 0.10 passing these as positional arguments will result in an error\n",
      "C:\\Users\\Diyona\\New folder\\envs\\SDP_CSE\\lib\\site-packages\\ipykernel_launcher.py:30: FutureWarning: Pass y=[ 0.001555    0.0021983   0.00165576 ... -0.00211223  0.00216398\n",
      "  0.00408867], sr=22050 as keyword args. From version 0.10 passing these as positional arguments will result in an error\n"
     ]
    },
    {
     "name": "stdout",
     "output_type": "stream",
     "text": [
      "C:\\Users\\Diyona\\Documents\\dataset\\dog\\dog_barking_29.wav: 1\n",
      "C:\\Users\\Diyona\\Documents\\dataset\\dog\\dog_barking_3.wav: 1\n"
     ]
    },
    {
     "name": "stderr",
     "output_type": "stream",
     "text": [
      "C:\\Users\\Diyona\\New folder\\envs\\SDP_CSE\\lib\\site-packages\\ipykernel_launcher.py:30: FutureWarning: Pass y=[-2.13938665e-06 -3.00989486e-05 -1.21176245e-05 ... -3.65419500e-02\n",
      " -5.84916957e-02 -8.14140216e-02], sr=22050 as keyword args. From version 0.10 passing these as positional arguments will result in an error\n",
      "C:\\Users\\Diyona\\New folder\\envs\\SDP_CSE\\lib\\site-packages\\ipykernel_launcher.py:30: FutureWarning: Pass y=[-2.4009931e-05 -4.8329416e-06 -1.8626419e-05 ... -3.8906928e-02\n",
      " -3.3042122e-02 -2.7091842e-02], sr=22050 as keyword args. From version 0.10 passing these as positional arguments will result in an error\n"
     ]
    },
    {
     "name": "stdout",
     "output_type": "stream",
     "text": [
      "C:\\Users\\Diyona\\Documents\\dataset\\dog\\dog_barking_30.wav: 1\n",
      "C:\\Users\\Diyona\\Documents\\dataset\\dog\\dog_barking_31.wav: 1\n",
      "C:\\Users\\Diyona\\Documents\\dataset\\dog\\dog_barking_32.wav: 1\n"
     ]
    },
    {
     "name": "stderr",
     "output_type": "stream",
     "text": [
      "C:\\Users\\Diyona\\New folder\\envs\\SDP_CSE\\lib\\site-packages\\ipykernel_launcher.py:30: FutureWarning: Pass y=[-2.9397801e-05 -6.1380415e-06 -9.2581258e-06 ...  1.6572662e-02\n",
      "  2.9093269e-02  3.5012946e-02], sr=22050 as keyword args. From version 0.10 passing these as positional arguments will result in an error\n",
      "C:\\Users\\Diyona\\New folder\\envs\\SDP_CSE\\lib\\site-packages\\ipykernel_launcher.py:30: FutureWarning: Pass y=[-3.3868619e-05  7.6794131e-06  6.1128885e-05 ... -1.8677796e-01\n",
      " -1.7959112e-01 -1.6261643e-01], sr=22050 as keyword args. From version 0.10 passing these as positional arguments will result in an error\n"
     ]
    },
    {
     "name": "stdout",
     "output_type": "stream",
     "text": [
      "C:\\Users\\Diyona\\Documents\\dataset\\dog\\dog_barking_33.wav: 1\n"
     ]
    },
    {
     "name": "stderr",
     "output_type": "stream",
     "text": [
      "C:\\Users\\Diyona\\New folder\\envs\\SDP_CSE\\lib\\site-packages\\ipykernel_launcher.py:30: FutureWarning: Pass y=[-3.2432447e-06 -1.9213730e-05 -4.3147244e-05 ...  3.8558785e-02\n",
      "  4.4972438e-02  4.8528094e-02], sr=22050 as keyword args. From version 0.10 passing these as positional arguments will result in an error\n",
      "C:\\Users\\Diyona\\New folder\\envs\\SDP_CSE\\lib\\site-packages\\ipykernel_launcher.py:30: FutureWarning: Pass y=[-3.6509230e-06 -2.7583170e-05 -1.4385130e-05 ...  2.6633877e-02\n",
      "  2.2836056e-02  1.7330393e-02], sr=22050 as keyword args. From version 0.10 passing these as positional arguments will result in an error\n"
     ]
    },
    {
     "name": "stdout",
     "output_type": "stream",
     "text": [
      "C:\\Users\\Diyona\\Documents\\dataset\\dog\\dog_barking_34.wav: 1\n",
      "C:\\Users\\Diyona\\Documents\\dataset\\dog\\dog_barking_35.wav: 1\n"
     ]
    },
    {
     "name": "stderr",
     "output_type": "stream",
     "text": [
      "C:\\Users\\Diyona\\New folder\\envs\\SDP_CSE\\lib\\site-packages\\ipykernel_launcher.py:30: FutureWarning: Pass y=[-2.9460043e-05 -9.9885547e-06 -1.0499756e-06 ...  2.7147191e-02\n",
      "  2.1161111e-02  1.6798243e-02], sr=22050 as keyword args. From version 0.10 passing these as positional arguments will result in an error\n"
     ]
    },
    {
     "name": "stdout",
     "output_type": "stream",
     "text": [
      "C:\\Users\\Diyona\\Documents\\dataset\\dog\\dog_barking_36.wav: 1\n"
     ]
    },
    {
     "name": "stderr",
     "output_type": "stream",
     "text": [
      "C:\\Users\\Diyona\\New folder\\envs\\SDP_CSE\\lib\\site-packages\\ipykernel_launcher.py:30: FutureWarning: Pass y=[-2.9302609e-07  5.9494323e-06  1.0825832e-04 ...  8.5819364e-02\n",
      "  8.9344420e-02  8.4367737e-02], sr=22050 as keyword args. From version 0.10 passing these as positional arguments will result in an error\n"
     ]
    },
    {
     "name": "stdout",
     "output_type": "stream",
     "text": [
      "C:\\Users\\Diyona\\Documents\\dataset\\dog\\dog_barking_37.wav: 1\n"
     ]
    },
    {
     "name": "stderr",
     "output_type": "stream",
     "text": [
      "C:\\Users\\Diyona\\New folder\\envs\\SDP_CSE\\lib\\site-packages\\ipykernel_launcher.py:30: FutureWarning: Pass y=[-8.5527927e-07 -2.0652664e-05 -3.1490483e-05 ... -1.3349769e-01\n",
      " -1.4705445e-01 -1.5649053e-01], sr=22050 as keyword args. From version 0.10 passing these as positional arguments will result in an error\n",
      "C:\\Users\\Diyona\\New folder\\envs\\SDP_CSE\\lib\\site-packages\\ipykernel_launcher.py:30: FutureWarning: Pass y=[-2.9936968e-05  1.5437681e-05  4.9831218e-05 ... -6.7303270e-02\n",
      " -6.4475819e-02 -6.1234210e-02], sr=22050 as keyword args. From version 0.10 passing these as positional arguments will result in an error\n"
     ]
    },
    {
     "name": "stdout",
     "output_type": "stream",
     "text": [
      "C:\\Users\\Diyona\\Documents\\dataset\\dog\\dog_barking_38.wav: 1\n",
      "C:\\Users\\Diyona\\Documents\\dataset\\dog\\dog_barking_39.wav: 1\n"
     ]
    },
    {
     "name": "stderr",
     "output_type": "stream",
     "text": [
      "C:\\Users\\Diyona\\New folder\\envs\\SDP_CSE\\lib\\site-packages\\ipykernel_launcher.py:30: FutureWarning: Pass y=[-0.00053162 -0.00050666 -0.00020808 ... -0.09784549 -0.14032406\n",
      " -0.16514394], sr=22050 as keyword args. From version 0.10 passing these as positional arguments will result in an error\n",
      "C:\\Users\\Diyona\\New folder\\envs\\SDP_CSE\\lib\\site-packages\\ipykernel_launcher.py:30: FutureWarning: Pass y=[-2.8352908e-05 -4.3872496e-06 -1.3180685e-05 ...  9.2260189e-02\n",
      "  7.3199093e-02  5.6104433e-02], sr=22050 as keyword args. From version 0.10 passing these as positional arguments will result in an error\n"
     ]
    },
    {
     "name": "stdout",
     "output_type": "stream",
     "text": [
      "C:\\Users\\Diyona\\Documents\\dataset\\dog\\dog_barking_4.wav: 1\n",
      "C:\\Users\\Diyona\\Documents\\dataset\\dog\\dog_barking_40.wav: 1\n"
     ]
    },
    {
     "name": "stderr",
     "output_type": "stream",
     "text": [
      "C:\\Users\\Diyona\\New folder\\envs\\SDP_CSE\\lib\\site-packages\\ipykernel_launcher.py:30: FutureWarning: Pass y=[-1.42666727e-06 -4.94686901e-06  1.01461665e-05 ... -5.98101579e-02\n",
      " -2.75464468e-02  5.85050788e-03], sr=22050 as keyword args. From version 0.10 passing these as positional arguments will result in an error\n",
      "C:\\Users\\Diyona\\New folder\\envs\\SDP_CSE\\lib\\site-packages\\ipykernel_launcher.py:30: FutureWarning: Pass y=[ 4.9477735e-06  6.2447916e-06 -2.4744044e-05 ...  4.4132136e-02\n",
      "  3.7608564e-02  3.2285761e-02], sr=22050 as keyword args. From version 0.10 passing these as positional arguments will result in an error\n"
     ]
    },
    {
     "name": "stdout",
     "output_type": "stream",
     "text": [
      "C:\\Users\\Diyona\\Documents\\dataset\\dog\\dog_barking_41.wav: 1\n",
      "C:\\Users\\Diyona\\Documents\\dataset\\dog\\dog_barking_42.wav: 1\n"
     ]
    },
    {
     "name": "stderr",
     "output_type": "stream",
     "text": [
      "C:\\Users\\Diyona\\New folder\\envs\\SDP_CSE\\lib\\site-packages\\ipykernel_launcher.py:30: FutureWarning: Pass y=[ 5.4818332e-07  5.4058037e-06 -1.5518774e-05 ... -4.2017568e-02\n",
      " -4.6970613e-02 -5.0306588e-02], sr=22050 as keyword args. From version 0.10 passing these as positional arguments will result in an error\n"
     ]
    },
    {
     "name": "stdout",
     "output_type": "stream",
     "text": [
      "C:\\Users\\Diyona\\Documents\\dataset\\dog\\dog_barking_43.wav: 1\n"
     ]
    },
    {
     "name": "stderr",
     "output_type": "stream",
     "text": [
      "C:\\Users\\Diyona\\New folder\\envs\\SDP_CSE\\lib\\site-packages\\ipykernel_launcher.py:30: FutureWarning: Pass y=[-3.7770367e-06 -5.6569632e-05 -2.8869594e-04 ...  4.2788813e-01\n",
      "  3.9478898e-01  3.4978601e-01], sr=22050 as keyword args. From version 0.10 passing these as positional arguments will result in an error\n"
     ]
    },
    {
     "name": "stdout",
     "output_type": "stream",
     "text": [
      "C:\\Users\\Diyona\\Documents\\dataset\\dog\\dog_barking_44.wav: 1\n"
     ]
    },
    {
     "name": "stderr",
     "output_type": "stream",
     "text": [
      "C:\\Users\\Diyona\\New folder\\envs\\SDP_CSE\\lib\\site-packages\\ipykernel_launcher.py:30: FutureWarning: Pass y=[-2.2185750e-05 -5.6425920e-06 -2.9474684e-05 ... -7.0346636e-01\n",
      " -7.2519374e-01 -7.0209992e-01], sr=22050 as keyword args. From version 0.10 passing these as positional arguments will result in an error\n"
     ]
    },
    {
     "name": "stdout",
     "output_type": "stream",
     "text": [
      "C:\\Users\\Diyona\\Documents\\dataset\\dog\\dog_barking_45.wav: 1\n"
     ]
    },
    {
     "name": "stderr",
     "output_type": "stream",
     "text": [
      "C:\\Users\\Diyona\\New folder\\envs\\SDP_CSE\\lib\\site-packages\\ipykernel_launcher.py:30: FutureWarning: Pass y=[-2.8804579e-05 -1.1116759e-05  2.8108100e-06 ...  2.2001280e-02\n",
      " -1.8561359e-02 -4.7031235e-02], sr=22050 as keyword args. From version 0.10 passing these as positional arguments will result in an error\n"
     ]
    },
    {
     "name": "stdout",
     "output_type": "stream",
     "text": [
      "C:\\Users\\Diyona\\Documents\\dataset\\dog\\dog_barking_46.wav: 1\n"
     ]
    },
    {
     "name": "stderr",
     "output_type": "stream",
     "text": [
      "C:\\Users\\Diyona\\New folder\\envs\\SDP_CSE\\lib\\site-packages\\ipykernel_launcher.py:30: FutureWarning: Pass y=[ 9.9827394e-06 -1.5410267e-05 -8.7250155e-05 ... -2.2353037e-01\n",
      " -2.3079263e-01 -2.2880992e-01], sr=22050 as keyword args. From version 0.10 passing these as positional arguments will result in an error\n"
     ]
    },
    {
     "name": "stdout",
     "output_type": "stream",
     "text": [
      "C:\\Users\\Diyona\\Documents\\dataset\\dog\\dog_barking_47.wav: 1\n"
     ]
    },
    {
     "name": "stderr",
     "output_type": "stream",
     "text": [
      "C:\\Users\\Diyona\\New folder\\envs\\SDP_CSE\\lib\\site-packages\\ipykernel_launcher.py:30: FutureWarning: Pass y=[-2.4933957e-05 -5.0475901e-06 -1.7200296e-05 ... -1.3128687e-01\n",
      " -1.0612020e-01 -8.1819914e-02], sr=22050 as keyword args. From version 0.10 passing these as positional arguments will result in an error\n"
     ]
    },
    {
     "name": "stdout",
     "output_type": "stream",
     "text": [
      "C:\\Users\\Diyona\\Documents\\dataset\\dog\\dog_barking_48.wav: 1\n"
     ]
    },
    {
     "name": "stderr",
     "output_type": "stream",
     "text": [
      "C:\\Users\\Diyona\\New folder\\envs\\SDP_CSE\\lib\\site-packages\\ipykernel_launcher.py:30: FutureWarning: Pass y=[-2.4797138e-05 -4.8960815e-06 -1.8615254e-05 ...  1.0340511e-01\n",
      "  1.1975059e-01  1.2861961e-01], sr=22050 as keyword args. From version 0.10 passing these as positional arguments will result in an error\n"
     ]
    },
    {
     "name": "stdout",
     "output_type": "stream",
     "text": [
      "C:\\Users\\Diyona\\Documents\\dataset\\dog\\dog_barking_49.wav: 1\n"
     ]
    },
    {
     "name": "stderr",
     "output_type": "stream",
     "text": [
      "C:\\Users\\Diyona\\New folder\\envs\\SDP_CSE\\lib\\site-packages\\ipykernel_launcher.py:30: FutureWarning: Pass y=[-0.00452784 -0.00615972 -0.00650962 ... -0.00857778 -0.00751075\n",
      " -0.00502753], sr=22050 as keyword args. From version 0.10 passing these as positional arguments will result in an error\n",
      "C:\\Users\\Diyona\\New folder\\envs\\SDP_CSE\\lib\\site-packages\\ipykernel_launcher.py:30: FutureWarning: Pass y=[ 2.7376018e-07 -2.0468729e-05 -4.6527763e-05 ... -2.5908062e-02\n",
      " -5.3986095e-02 -8.1537277e-02], sr=22050 as keyword args. From version 0.10 passing these as positional arguments will result in an error\n"
     ]
    },
    {
     "name": "stdout",
     "output_type": "stream",
     "text": [
      "C:\\Users\\Diyona\\Documents\\dataset\\dog\\dog_barking_5.wav: 1\n",
      "C:\\Users\\Diyona\\Documents\\dataset\\dog\\dog_barking_50.wav: 1\n"
     ]
    },
    {
     "name": "stderr",
     "output_type": "stream",
     "text": [
      "C:\\Users\\Diyona\\New folder\\envs\\SDP_CSE\\lib\\site-packages\\ipykernel_launcher.py:30: FutureWarning: Pass y=[-2.6469457e-05  1.4261929e-06 -4.9451861e-05 ... -1.9717930e-01\n",
      " -2.0429464e-01 -2.2369948e-01], sr=22050 as keyword args. From version 0.10 passing these as positional arguments will result in an error\n"
     ]
    },
    {
     "name": "stdout",
     "output_type": "stream",
     "text": [
      "C:\\Users\\Diyona\\Documents\\dataset\\dog\\dog_barking_51.wav: 1\n"
     ]
    },
    {
     "name": "stderr",
     "output_type": "stream",
     "text": [
      "C:\\Users\\Diyona\\New folder\\envs\\SDP_CSE\\lib\\site-packages\\ipykernel_launcher.py:30: FutureWarning: Pass y=[0.00042844 0.00177229 0.00510698 ... 0.29882324 0.32217062 0.34336725], sr=22050 as keyword args. From version 0.10 passing these as positional arguments will result in an error\n"
     ]
    },
    {
     "name": "stdout",
     "output_type": "stream",
     "text": [
      "C:\\Users\\Diyona\\Documents\\dataset\\dog\\dog_barking_52.wav: 1\n"
     ]
    },
    {
     "name": "stderr",
     "output_type": "stream",
     "text": [
      "C:\\Users\\Diyona\\New folder\\envs\\SDP_CSE\\lib\\site-packages\\ipykernel_launcher.py:30: FutureWarning: Pass y=[-0.01370712 -0.01981573 -0.01574004 ...  0.0601178   0.02374186\n",
      " -0.01917019], sr=22050 as keyword args. From version 0.10 passing these as positional arguments will result in an error\n",
      "C:\\Users\\Diyona\\New folder\\envs\\SDP_CSE\\lib\\site-packages\\ipykernel_launcher.py:30: FutureWarning: Pass y=[-3.1376683e-05  3.3202163e-05  2.0985695e-04 ... -5.9697755e-02\n",
      " -8.6912632e-02 -1.0842752e-01], sr=22050 as keyword args. From version 0.10 passing these as positional arguments will result in an error\n"
     ]
    },
    {
     "name": "stdout",
     "output_type": "stream",
     "text": [
      "C:\\Users\\Diyona\\Documents\\dataset\\dog\\dog_barking_53.wav: 1\n",
      "C:\\Users\\Diyona\\Documents\\dataset\\dog\\dog_barking_54.wav: 1\n"
     ]
    },
    {
     "name": "stderr",
     "output_type": "stream",
     "text": [
      "C:\\Users\\Diyona\\New folder\\envs\\SDP_CSE\\lib\\site-packages\\ipykernel_launcher.py:30: FutureWarning: Pass y=[ 4.3285002e-07 -2.5806223e-05 -2.3225371e-05 ... -1.2842437e-03\n",
      "  9.5155044e-03  1.8499484e-02], sr=22050 as keyword args. From version 0.10 passing these as positional arguments will result in an error\n",
      "C:\\Users\\Diyona\\New folder\\envs\\SDP_CSE\\lib\\site-packages\\ipykernel_launcher.py:30: FutureWarning: Pass y=[-2.60101097e-05 -6.60791238e-06 -1.35379205e-05 ... -1.45909609e-02\n",
      " -2.35529728e-02 -3.45266871e-02], sr=22050 as keyword args. From version 0.10 passing these as positional arguments will result in an error\n"
     ]
    },
    {
     "name": "stdout",
     "output_type": "stream",
     "text": [
      "C:\\Users\\Diyona\\Documents\\dataset\\dog\\dog_barking_55.wav: 1\n",
      "C:\\Users\\Diyona\\Documents\\dataset\\dog\\dog_barking_56.wav: 1\n"
     ]
    },
    {
     "name": "stderr",
     "output_type": "stream",
     "text": [
      "C:\\Users\\Diyona\\New folder\\envs\\SDP_CSE\\lib\\site-packages\\ipykernel_launcher.py:30: FutureWarning: Pass y=[-3.1853003e-07 -3.9987026e-05 -9.2996837e-05 ... -3.1010965e-02\n",
      " -3.4049679e-02 -3.5755169e-02], sr=22050 as keyword args. From version 0.10 passing these as positional arguments will result in an error\n"
     ]
    },
    {
     "name": "stdout",
     "output_type": "stream",
     "text": [
      "C:\\Users\\Diyona\\Documents\\dataset\\dog\\dog_barking_57.wav: 1\n"
     ]
    },
    {
     "name": "stderr",
     "output_type": "stream",
     "text": [
      "C:\\Users\\Diyona\\New folder\\envs\\SDP_CSE\\lib\\site-packages\\ipykernel_launcher.py:30: FutureWarning: Pass y=[-2.9768715e-05 -7.4280888e-06 -7.9888405e-06 ... -1.3732426e-02\n",
      "  7.2602616e-03  3.4998469e-02], sr=22050 as keyword args. From version 0.10 passing these as positional arguments will result in an error\n"
     ]
    },
    {
     "name": "stdout",
     "output_type": "stream",
     "text": [
      "C:\\Users\\Diyona\\Documents\\dataset\\dog\\dog_barking_58.wav: 1\n"
     ]
    },
    {
     "name": "stderr",
     "output_type": "stream",
     "text": [
      "C:\\Users\\Diyona\\New folder\\envs\\SDP_CSE\\lib\\site-packages\\ipykernel_launcher.py:30: FutureWarning: Pass y=[-8.2595767e-07 -1.2015565e-05 -7.2303956e-05 ... -6.4074814e-02\n",
      " -4.4793993e-02 -2.0362342e-02], sr=22050 as keyword args. From version 0.10 passing these as positional arguments will result in an error\n"
     ]
    },
    {
     "name": "stdout",
     "output_type": "stream",
     "text": [
      "C:\\Users\\Diyona\\Documents\\dataset\\dog\\dog_barking_59.wav: 1\n"
     ]
    },
    {
     "name": "stderr",
     "output_type": "stream",
     "text": [
      "C:\\Users\\Diyona\\New folder\\envs\\SDP_CSE\\lib\\site-packages\\ipykernel_launcher.py:30: FutureWarning: Pass y=[-0.00485915 -0.0058567  -0.00322179 ... -0.0005902  -0.00076949\n",
      " -0.00108879], sr=22050 as keyword args. From version 0.10 passing these as positional arguments will result in an error\n",
      "C:\\Users\\Diyona\\New folder\\envs\\SDP_CSE\\lib\\site-packages\\ipykernel_launcher.py:30: FutureWarning: Pass y=[-2.8335227e-05 -8.3250152e-06 -6.8920458e-06 ... -4.8498392e-02\n",
      " -3.4930579e-02 -1.9897375e-02], sr=22050 as keyword args. From version 0.10 passing these as positional arguments will result in an error\n"
     ]
    },
    {
     "name": "stdout",
     "output_type": "stream",
     "text": [
      "C:\\Users\\Diyona\\Documents\\dataset\\dog\\dog_barking_6.wav: 1\n",
      "C:\\Users\\Diyona\\Documents\\dataset\\dog\\dog_barking_60.wav: 1\n"
     ]
    },
    {
     "name": "stderr",
     "output_type": "stream",
     "text": [
      "C:\\Users\\Diyona\\New folder\\envs\\SDP_CSE\\lib\\site-packages\\ipykernel_launcher.py:30: FutureWarning: Pass y=[-2.6336427e-05 -1.3837924e-05  1.8825871e-05 ... -7.9550128e-04\n",
      " -1.3642789e-02 -2.8361585e-02], sr=22050 as keyword args. From version 0.10 passing these as positional arguments will result in an error\n"
     ]
    },
    {
     "name": "stdout",
     "output_type": "stream",
     "text": [
      "C:\\Users\\Diyona\\Documents\\dataset\\dog\\dog_barking_61.wav: 1\n"
     ]
    },
    {
     "name": "stderr",
     "output_type": "stream",
     "text": [
      "C:\\Users\\Diyona\\New folder\\envs\\SDP_CSE\\lib\\site-packages\\ipykernel_launcher.py:30: FutureWarning: Pass y=[-5.8579042e-07 -2.5290643e-05 -2.3586896e-05 ...  2.0455325e-01\n",
      "  2.0207918e-01  1.9575927e-01], sr=22050 as keyword args. From version 0.10 passing these as positional arguments will result in an error\n"
     ]
    },
    {
     "name": "stdout",
     "output_type": "stream",
     "text": [
      "C:\\Users\\Diyona\\Documents\\dataset\\dog\\dog_barking_62.wav: 1\n"
     ]
    },
    {
     "name": "stderr",
     "output_type": "stream",
     "text": [
      "C:\\Users\\Diyona\\New folder\\envs\\SDP_CSE\\lib\\site-packages\\ipykernel_launcher.py:30: FutureWarning: Pass y=[-2.1871185e-06 -1.7582630e-05 -5.5008466e-05 ... -2.2567855e-01\n",
      " -1.7806566e-01 -1.2581067e-01], sr=22050 as keyword args. From version 0.10 passing these as positional arguments will result in an error\n"
     ]
    },
    {
     "name": "stdout",
     "output_type": "stream",
     "text": [
      "C:\\Users\\Diyona\\Documents\\dataset\\dog\\dog_barking_63.wav: 1\n"
     ]
    },
    {
     "name": "stderr",
     "output_type": "stream",
     "text": [
      "C:\\Users\\Diyona\\New folder\\envs\\SDP_CSE\\lib\\site-packages\\ipykernel_launcher.py:30: FutureWarning: Pass y=[-1.8446823e-06 -2.5471865e-05 -2.1102851e-05 ...  9.6753918e-02\n",
      "  8.3542541e-02  6.7935444e-02], sr=22050 as keyword args. From version 0.10 passing these as positional arguments will result in an error\n"
     ]
    },
    {
     "name": "stdout",
     "output_type": "stream",
     "text": [
      "C:\\Users\\Diyona\\Documents\\dataset\\dog\\dog_barking_64.wav: 1\n"
     ]
    },
    {
     "name": "stderr",
     "output_type": "stream",
     "text": [
      "C:\\Users\\Diyona\\New folder\\envs\\SDP_CSE\\lib\\site-packages\\ipykernel_launcher.py:30: FutureWarning: Pass y=[-2.9492599e-05 -6.8121581e-06 -7.8089461e-06 ...  7.4789472e-02\n",
      "  7.5094782e-02  7.3256806e-02], sr=22050 as keyword args. From version 0.10 passing these as positional arguments will result in an error\n"
     ]
    },
    {
     "name": "stdout",
     "output_type": "stream",
     "text": [
      "C:\\Users\\Diyona\\Documents\\dataset\\dog\\dog_barking_65.wav: 1\n"
     ]
    },
    {
     "name": "stderr",
     "output_type": "stream",
     "text": [
      "C:\\Users\\Diyona\\New folder\\envs\\SDP_CSE\\lib\\site-packages\\ipykernel_launcher.py:30: FutureWarning: Pass y=[-2.8473072e-05 -3.4638932e-05 -2.8807433e-05 ...  1.4514620e-02\n",
      "  1.8331757e-02  2.0720715e-02], sr=22050 as keyword args. From version 0.10 passing these as positional arguments will result in an error\n",
      "C:\\Users\\Diyona\\New folder\\envs\\SDP_CSE\\lib\\site-packages\\ipykernel_launcher.py:30: FutureWarning: Pass y=[-9.1408918e-07 -2.1807231e-05 -4.2327647e-05 ... -6.7895189e-02\n",
      " -8.5159078e-02 -1.0026502e-01], sr=22050 as keyword args. From version 0.10 passing these as positional arguments will result in an error\n"
     ]
    },
    {
     "name": "stdout",
     "output_type": "stream",
     "text": [
      "C:\\Users\\Diyona\\Documents\\dataset\\dog\\dog_barking_66.wav: 1\n",
      "C:\\Users\\Diyona\\Documents\\dataset\\dog\\dog_barking_67.wav: 1\n"
     ]
    },
    {
     "name": "stderr",
     "output_type": "stream",
     "text": [
      "C:\\Users\\Diyona\\New folder\\envs\\SDP_CSE\\lib\\site-packages\\ipykernel_launcher.py:30: FutureWarning: Pass y=[-2.5695683e-05 -4.9473397e-06 -1.6291046e-05 ...  3.0254972e-01\n",
      "  3.1352940e-01  3.2050258e-01], sr=22050 as keyword args. From version 0.10 passing these as positional arguments will result in an error\n"
     ]
    },
    {
     "name": "stdout",
     "output_type": "stream",
     "text": [
      "C:\\Users\\Diyona\\Documents\\dataset\\dog\\dog_barking_68.wav: 1\n"
     ]
    },
    {
     "name": "stderr",
     "output_type": "stream",
     "text": [
      "C:\\Users\\Diyona\\New folder\\envs\\SDP_CSE\\lib\\site-packages\\ipykernel_launcher.py:30: FutureWarning: Pass y=[-2.16942112e-06 -1.75546083e-05 -4.72991924e-05 ...  1.05381206e-01\n",
      "  1.06991827e-01  1.13539368e-01], sr=22050 as keyword args. From version 0.10 passing these as positional arguments will result in an error\n"
     ]
    },
    {
     "name": "stdout",
     "output_type": "stream",
     "text": [
      "C:\\Users\\Diyona\\Documents\\dataset\\dog\\dog_barking_69.wav: 1\n"
     ]
    },
    {
     "name": "stderr",
     "output_type": "stream",
     "text": [
      "C:\\Users\\Diyona\\New folder\\envs\\SDP_CSE\\lib\\site-packages\\ipykernel_launcher.py:30: FutureWarning: Pass y=[ 0.00218567  0.0045207   0.00347009 ... -0.01102725 -0.01267382\n",
      " -0.01243132], sr=22050 as keyword args. From version 0.10 passing these as positional arguments will result in an error\n",
      "C:\\Users\\Diyona\\New folder\\envs\\SDP_CSE\\lib\\site-packages\\ipykernel_launcher.py:30: FutureWarning: Pass y=[ 2.1237038e-06 -1.4158085e-05 -7.2718423e-05 ... -8.5984193e-02\n",
      " -9.3940906e-02 -9.9210516e-02], sr=22050 as keyword args. From version 0.10 passing these as positional arguments will result in an error\n"
     ]
    },
    {
     "name": "stdout",
     "output_type": "stream",
     "text": [
      "C:\\Users\\Diyona\\Documents\\dataset\\dog\\dog_barking_7.wav: 1\n",
      "C:\\Users\\Diyona\\Documents\\dataset\\dog\\dog_barking_70.wav: 1\n"
     ]
    },
    {
     "name": "stderr",
     "output_type": "stream",
     "text": [
      "C:\\Users\\Diyona\\New folder\\envs\\SDP_CSE\\lib\\site-packages\\ipykernel_launcher.py:30: FutureWarning: Pass y=[-2.8546081e-05 -6.9105499e-06 -6.4763276e-06 ... -2.8262433e-01\n",
      " -2.7312547e-01 -2.5649104e-01], sr=22050 as keyword args. From version 0.10 passing these as positional arguments will result in an error\n",
      "C:\\Users\\Diyona\\New folder\\envs\\SDP_CSE\\lib\\site-packages\\ipykernel_launcher.py:30: FutureWarning: Pass y=[-4.9969163e-08 -4.6069108e-05 -6.8936235e-05 ...  1.5387215e-02\n",
      "  4.0713780e-02  6.3061893e-02], sr=22050 as keyword args. From version 0.10 passing these as positional arguments will result in an error\n"
     ]
    },
    {
     "name": "stdout",
     "output_type": "stream",
     "text": [
      "C:\\Users\\Diyona\\Documents\\dataset\\dog\\dog_barking_71.wav: 1\n",
      "C:\\Users\\Diyona\\Documents\\dataset\\dog\\dog_barking_72.wav: 1\n"
     ]
    },
    {
     "name": "stderr",
     "output_type": "stream",
     "text": [
      "C:\\Users\\Diyona\\New folder\\envs\\SDP_CSE\\lib\\site-packages\\ipykernel_launcher.py:30: FutureWarning: Pass y=[-1.4458176e-07  2.6333789e-06 -9.7459642e-06 ...  4.7832351e-02\n",
      "  5.9635565e-02  6.6062480e-02], sr=22050 as keyword args. From version 0.10 passing these as positional arguments will result in an error\n",
      "C:\\Users\\Diyona\\New folder\\envs\\SDP_CSE\\lib\\site-packages\\ipykernel_launcher.py:30: FutureWarning: Pass y=[-3.0915269e-06 -2.9261422e-05 -1.2810070e-05 ... -1.7827282e-02\n",
      " -2.0928459e-02 -1.9208733e-02], sr=22050 as keyword args. From version 0.10 passing these as positional arguments will result in an error\n"
     ]
    },
    {
     "name": "stdout",
     "output_type": "stream",
     "text": [
      "C:\\Users\\Diyona\\Documents\\dataset\\dog\\dog_barking_73.wav: 1\n",
      "C:\\Users\\Diyona\\Documents\\dataset\\dog\\dog_barking_74.wav: 1\n"
     ]
    },
    {
     "name": "stderr",
     "output_type": "stream",
     "text": [
      "C:\\Users\\Diyona\\New folder\\envs\\SDP_CSE\\lib\\site-packages\\ipykernel_launcher.py:30: FutureWarning: Pass y=[-2.8790930e-05 -1.3396048e-05  1.6117392e-05 ... -3.2635336e-03\n",
      " -2.3826199e-02 -4.1492395e-02], sr=22050 as keyword args. From version 0.10 passing these as positional arguments will result in an error\n",
      "C:\\Users\\Diyona\\New folder\\envs\\SDP_CSE\\lib\\site-packages\\ipykernel_launcher.py:30: FutureWarning: Pass y=[-2.8070390e-05 -9.6811727e-06 -3.7502807e-06 ... -4.2815655e-02\n",
      " -5.1223010e-02 -6.2320709e-02], sr=22050 as keyword args. From version 0.10 passing these as positional arguments will result in an error\n"
     ]
    },
    {
     "name": "stdout",
     "output_type": "stream",
     "text": [
      "C:\\Users\\Diyona\\Documents\\dataset\\dog\\dog_barking_75.wav: 1\n",
      "C:\\Users\\Diyona\\Documents\\dataset\\dog\\dog_barking_76.wav: 1\n"
     ]
    },
    {
     "name": "stderr",
     "output_type": "stream",
     "text": [
      "C:\\Users\\Diyona\\New folder\\envs\\SDP_CSE\\lib\\site-packages\\ipykernel_launcher.py:30: FutureWarning: Pass y=[-1.9887806e-05 -3.9377828e-05 -1.3981717e-04 ...  6.9480613e-02\n",
      "  6.3572139e-02  5.7208415e-02], sr=22050 as keyword args. From version 0.10 passing these as positional arguments will result in an error\n"
     ]
    },
    {
     "name": "stdout",
     "output_type": "stream",
     "text": [
      "C:\\Users\\Diyona\\Documents\\dataset\\dog\\dog_barking_77.wav: 1\n"
     ]
    },
    {
     "name": "stderr",
     "output_type": "stream",
     "text": [
      "C:\\Users\\Diyona\\New folder\\envs\\SDP_CSE\\lib\\site-packages\\ipykernel_launcher.py:30: FutureWarning: Pass y=[-2.9064817e-05 -7.2079379e-06 -2.8092380e-05 ... -2.8721006e-03\n",
      "  1.7848145e-02  3.6962170e-02], sr=22050 as keyword args. From version 0.10 passing these as positional arguments will result in an error\n"
     ]
    },
    {
     "name": "stdout",
     "output_type": "stream",
     "text": [
      "C:\\Users\\Diyona\\Documents\\dataset\\dog\\dog_barking_78.wav: 1\n"
     ]
    },
    {
     "name": "stderr",
     "output_type": "stream",
     "text": [
      "C:\\Users\\Diyona\\New folder\\envs\\SDP_CSE\\lib\\site-packages\\ipykernel_launcher.py:30: FutureWarning: Pass y=[-3.6033900e-05  8.5870643e-06 -3.5563928e-05 ...  4.2121533e-01\n",
      "  4.5828795e-01  4.8247820e-01], sr=22050 as keyword args. From version 0.10 passing these as positional arguments will result in an error\n",
      "C:\\Users\\Diyona\\New folder\\envs\\SDP_CSE\\lib\\site-packages\\ipykernel_launcher.py:30: FutureWarning: Pass y=[-0.00206765 -0.00233101 -0.00170548 ... -0.01636597 -0.0169731\n",
      " -0.01265442], sr=22050 as keyword args. From version 0.10 passing these as positional arguments will result in an error\n"
     ]
    },
    {
     "name": "stdout",
     "output_type": "stream",
     "text": [
      "C:\\Users\\Diyona\\Documents\\dataset\\dog\\dog_barking_79.wav: 1\n",
      "C:\\Users\\Diyona\\Documents\\dataset\\dog\\dog_barking_8.wav: 1\n"
     ]
    },
    {
     "name": "stderr",
     "output_type": "stream",
     "text": [
      "C:\\Users\\Diyona\\New folder\\envs\\SDP_CSE\\lib\\site-packages\\ipykernel_launcher.py:30: FutureWarning: Pass y=[-2.8120880e-05 -9.5634678e-06 -3.9796669e-06 ...  5.2244380e-02\n",
      "  3.3279840e-02  1.4694635e-02], sr=22050 as keyword args. From version 0.10 passing these as positional arguments will result in an error\n",
      "C:\\Users\\Diyona\\New folder\\envs\\SDP_CSE\\lib\\site-packages\\ipykernel_launcher.py:30: FutureWarning: Pass y=[-3.9755719e-06 -2.7336686e-05 -1.4460017e-05 ... -3.6866382e-02\n",
      " -4.7212593e-02 -5.3873457e-02], sr=22050 as keyword args. From version 0.10 passing these as positional arguments will result in an error\n"
     ]
    },
    {
     "name": "stdout",
     "output_type": "stream",
     "text": [
      "C:\\Users\\Diyona\\Documents\\dataset\\dog\\dog_barking_80.wav: 1\n",
      "C:\\Users\\Diyona\\Documents\\dataset\\dog\\dog_barking_81.wav: 1\n"
     ]
    },
    {
     "name": "stderr",
     "output_type": "stream",
     "text": [
      "C:\\Users\\Diyona\\New folder\\envs\\SDP_CSE\\lib\\site-packages\\ipykernel_launcher.py:30: FutureWarning: Pass y=[-2.6233233e-06 -2.7561024e-05 -1.6612670e-05 ...  2.4322907e-02\n",
      "  3.3618148e-02  3.9727036e-02], sr=22050 as keyword args. From version 0.10 passing these as positional arguments will result in an error\n",
      "C:\\Users\\Diyona\\New folder\\envs\\SDP_CSE\\lib\\site-packages\\ipykernel_launcher.py:30: FutureWarning: Pass y=[ 2.2636405e-06 -3.0201876e-05 -1.8623121e-05 ...  4.2505242e-02\n",
      "  4.5690164e-02  4.7859926e-02], sr=22050 as keyword args. From version 0.10 passing these as positional arguments will result in an error\n"
     ]
    },
    {
     "name": "stdout",
     "output_type": "stream",
     "text": [
      "C:\\Users\\Diyona\\Documents\\dataset\\dog\\dog_barking_82.wav: 1\n",
      "C:\\Users\\Diyona\\Documents\\dataset\\dog\\dog_barking_83.wav: 1\n",
      "C:\\Users\\Diyona\\Documents\\dataset\\dog\\dog_barking_84.wav: 1\n"
     ]
    },
    {
     "name": "stderr",
     "output_type": "stream",
     "text": [
      "C:\\Users\\Diyona\\New folder\\envs\\SDP_CSE\\lib\\site-packages\\ipykernel_launcher.py:30: FutureWarning: Pass y=[-3.11617150e-05 -1.48382205e-05  2.85591414e-05 ...  1.34454310e-01\n",
      "  1.22385882e-01  1.03411771e-01], sr=22050 as keyword args. From version 0.10 passing these as positional arguments will result in an error\n",
      "C:\\Users\\Diyona\\New folder\\envs\\SDP_CSE\\lib\\site-packages\\ipykernel_launcher.py:30: FutureWarning: Pass y=[-3.1169533e-05 -1.5963327e-05  6.2948352e-06 ...  1.8313639e-01\n",
      "  1.8770637e-01  1.8926744e-01], sr=22050 as keyword args. From version 0.10 passing these as positional arguments will result in an error\n"
     ]
    },
    {
     "name": "stdout",
     "output_type": "stream",
     "text": [
      "C:\\Users\\Diyona\\Documents\\dataset\\dog\\dog_barking_85.wav: 1\n",
      "C:\\Users\\Diyona\\Documents\\dataset\\dog\\dog_barking_86.wav: 1\n"
     ]
    },
    {
     "name": "stderr",
     "output_type": "stream",
     "text": [
      "C:\\Users\\Diyona\\New folder\\envs\\SDP_CSE\\lib\\site-packages\\ipykernel_launcher.py:30: FutureWarning: Pass y=[-2.3345339e-07 -1.6599413e-05 -5.8866004e-05 ...  8.7341413e-02\n",
      "  8.4211513e-02  8.1184477e-02], sr=22050 as keyword args. From version 0.10 passing these as positional arguments will result in an error\n",
      "C:\\Users\\Diyona\\New folder\\envs\\SDP_CSE\\lib\\site-packages\\ipykernel_launcher.py:30: FutureWarning: Pass y=[-2.5749085e-05 -6.7471274e-06 -1.3801202e-05 ... -1.3710006e-02\n",
      " -1.0569218e-02 -7.7102324e-03], sr=22050 as keyword args. From version 0.10 passing these as positional arguments will result in an error\n"
     ]
    },
    {
     "name": "stdout",
     "output_type": "stream",
     "text": [
      "C:\\Users\\Diyona\\Documents\\dataset\\dog\\dog_barking_87.wav: 1\n",
      "C:\\Users\\Diyona\\Documents\\dataset\\dog\\dog_barking_88.wav: 1\n"
     ]
    },
    {
     "name": "stderr",
     "output_type": "stream",
     "text": [
      "C:\\Users\\Diyona\\New folder\\envs\\SDP_CSE\\lib\\site-packages\\ipykernel_launcher.py:30: FutureWarning: Pass y=[-1.9413214e-06 -2.0811494e-05 -4.1971758e-05 ...  3.2845819e-01\n",
      "  3.6614290e-01  3.8867840e-01], sr=22050 as keyword args. From version 0.10 passing these as positional arguments will result in an error\n",
      "C:\\Users\\Diyona\\New folder\\envs\\SDP_CSE\\lib\\site-packages\\ipykernel_launcher.py:30: FutureWarning: Pass y=[-0.00154076 -0.00173347 -0.00154742 ...  0.32812846  0.39503744\n",
      "  0.43900964], sr=22050 as keyword args. From version 0.10 passing these as positional arguments will result in an error\n"
     ]
    },
    {
     "name": "stdout",
     "output_type": "stream",
     "text": [
      "C:\\Users\\Diyona\\Documents\\dataset\\dog\\dog_barking_89.wav: 1\n",
      "C:\\Users\\Diyona\\Documents\\dataset\\dog\\dog_barking_9.wav: 1\n"
     ]
    },
    {
     "name": "stderr",
     "output_type": "stream",
     "text": [
      "C:\\Users\\Diyona\\New folder\\envs\\SDP_CSE\\lib\\site-packages\\ipykernel_launcher.py:30: FutureWarning: Pass y=[-3.0163363e-05 -3.2525986e-05 -2.9285431e-05 ...  2.6924340e-02\n",
      "  8.6916545e-03 -3.6759645e-02], sr=22050 as keyword args. From version 0.10 passing these as positional arguments will result in an error\n",
      "C:\\Users\\Diyona\\New folder\\envs\\SDP_CSE\\lib\\site-packages\\ipykernel_launcher.py:30: FutureWarning: Pass y=[-2.0101872e-05  2.2932881e-04  4.0335467e-04 ... -1.1179417e-04\n",
      " -6.0094098e-05  7.3470321e-05], sr=22050 as keyword args. From version 0.10 passing these as positional arguments will result in an error\n"
     ]
    },
    {
     "name": "stdout",
     "output_type": "stream",
     "text": [
      "C:\\Users\\Diyona\\Documents\\dataset\\dog\\dog_barking_90.wav: 1\n"
     ]
    },
    {
     "name": "stderr",
     "output_type": "stream",
     "text": [
      "C:\\Users\\Diyona\\New folder\\envs\\SDP_CSE\\lib\\site-packages\\ipykernel_launcher.py:30: FutureWarning: Pass y=[-0.20452967 -0.19146584 -0.12328675 ...  0.00245931  0.00178936\n",
      "  0.0010525 ], sr=22050 as keyword args. From version 0.10 passing these as positional arguments will result in an error\n"
     ]
    },
    {
     "name": "stdout",
     "output_type": "stream",
     "text": [
      "C:\\Users\\Diyona\\Documents\\dataset\\dog\\dog_barking_91.wav: 1\n"
     ]
    },
    {
     "name": "stderr",
     "output_type": "stream",
     "text": [
      "C:\\Users\\Diyona\\New folder\\envs\\SDP_CSE\\lib\\site-packages\\ipykernel_launcher.py:30: FutureWarning: Pass y=[-0.00033325 -0.00055933 -0.00056356 ... -0.00011124 -0.0001652\n",
      " -0.00017891], sr=22050 as keyword args. From version 0.10 passing these as positional arguments will result in an error\n"
     ]
    },
    {
     "name": "stdout",
     "output_type": "stream",
     "text": [
      "C:\\Users\\Diyona\\Documents\\dataset\\dog\\dog_barking_92.wav: 1\n"
     ]
    },
    {
     "name": "stderr",
     "output_type": "stream",
     "text": [
      "C:\\Users\\Diyona\\New folder\\envs\\SDP_CSE\\lib\\site-packages\\ipykernel_launcher.py:30: FutureWarning: Pass y=[-2.7321936e-05 -1.2707635e-04 -2.8530380e-04 ...  1.2625816e-04\n",
      "  9.8190038e-05  3.3840730e-05], sr=22050 as keyword args. From version 0.10 passing these as positional arguments will result in an error\n"
     ]
    },
    {
     "name": "stdout",
     "output_type": "stream",
     "text": [
      "C:\\Users\\Diyona\\Documents\\dataset\\dog\\dog_barking_93.wav: 1\n"
     ]
    },
    {
     "name": "stderr",
     "output_type": "stream",
     "text": [
      "C:\\Users\\Diyona\\New folder\\envs\\SDP_CSE\\lib\\site-packages\\ipykernel_launcher.py:30: FutureWarning: Pass y=[ 0.00064614  0.00103859  0.00132638 ...  0.16181214  0.09956871\n",
      " -0.0061047 ], sr=22050 as keyword args. From version 0.10 passing these as positional arguments will result in an error\n",
      "C:\\Users\\Diyona\\New folder\\envs\\SDP_CSE\\lib\\site-packages\\ipykernel_launcher.py:30: FutureWarning: Pass y=[ 9.1220072e-04  6.4617576e-04  5.6862100e-05 ... -8.5290438e-03\n",
      " -8.5659958e-03 -7.5588687e-03], sr=22050 as keyword args. From version 0.10 passing these as positional arguments will result in an error\n"
     ]
    },
    {
     "name": "stdout",
     "output_type": "stream",
     "text": [
      "C:\\Users\\Diyona\\Documents\\dataset\\dog\\dog_barking_94.wav: 1\n",
      "C:\\Users\\Diyona\\Documents\\dataset\\dog\\dog_barking_95.wav: 1\n"
     ]
    },
    {
     "name": "stderr",
     "output_type": "stream",
     "text": [
      "C:\\Users\\Diyona\\New folder\\envs\\SDP_CSE\\lib\\site-packages\\ipykernel_launcher.py:30: FutureWarning: Pass y=[-0.00317604 -0.00353831 -0.00291632 ...  0.00402622  0.00467459\n",
      "  0.00519999], sr=22050 as keyword args. From version 0.10 passing these as positional arguments will result in an error\n"
     ]
    },
    {
     "name": "stdout",
     "output_type": "stream",
     "text": [
      "C:\\Users\\Diyona\\Documents\\dataset\\dog\\dog_barking_96.wav: 1\n"
     ]
    },
    {
     "name": "stderr",
     "output_type": "stream",
     "text": [
      "C:\\Users\\Diyona\\New folder\\envs\\SDP_CSE\\lib\\site-packages\\ipykernel_launcher.py:30: FutureWarning: Pass y=[-0.00065211 -0.00090989 -0.00093793 ...  0.05159631  0.03946999\n",
      "  0.02316338], sr=22050 as keyword args. From version 0.10 passing these as positional arguments will result in an error\n"
     ]
    },
    {
     "name": "stdout",
     "output_type": "stream",
     "text": [
      "C:\\Users\\Diyona\\Documents\\dataset\\dog\\dog_barking_97.wav: 1\n"
     ]
    },
    {
     "name": "stderr",
     "output_type": "stream",
     "text": [
      "C:\\Users\\Diyona\\New folder\\envs\\SDP_CSE\\lib\\site-packages\\ipykernel_launcher.py:30: FutureWarning: Pass y=[-2.9958897e-05 -3.4981287e-05 -1.8653831e-05 ... -2.1057141e-01\n",
      " -2.0617053e-01 -1.9297028e-01], sr=22050 as keyword args. From version 0.10 passing these as positional arguments will result in an error\n"
     ]
    },
    {
     "name": "stdout",
     "output_type": "stream",
     "text": [
      "C:\\Users\\Diyona\\Documents\\dataset\\dog\\dog_barking_98.wav: 1\n"
     ]
    },
    {
     "name": "stderr",
     "output_type": "stream",
     "text": [
      "C:\\Users\\Diyona\\New folder\\envs\\SDP_CSE\\lib\\site-packages\\ipykernel_launcher.py:30: FutureWarning: Pass y=[-0.00048217 -0.00138376 -0.00316853 ...  0.02411707  0.02324936\n",
      "  0.02362647], sr=22050 as keyword args. From version 0.10 passing these as positional arguments will result in an error\n"
     ]
    },
    {
     "name": "stdout",
     "output_type": "stream",
     "text": [
      "C:\\Users\\Diyona\\Documents\\dataset\\dog\\dog_barking_99.wav: 1\n"
     ]
    }
   ],
   "source": [
    "import librosa\n",
    "import os\n",
    "import json\n",
    "\n",
    "DATASET_PATH = r\"C:\\Users\\Diyona\\Documents\\dataset\"\n",
    "JSON_PATH = r\"C:\\Users\\Diyona\\Documents\\data.json\"\n",
    "\n",
    "SAMPLES_TO_CONSIDER = 22050\n",
    "\n",
    "\n",
    "def preprocess_dataset(dataset_path, json_path, num_mfcc=13, n_fft=2048, hop_length=512):\n",
    "    data = {\n",
    "        \"mapping\": [],\n",
    "        \"labels\": [],\n",
    "        \"MFCCs\": [],\n",
    "        \"files\": []\n",
    "    }\n",
    "\n",
    "    for i, (dirpath, dirnames, filenames) in enumerate(os.walk(dataset_path)):\n",
    "        if dirpath is not dataset_path:\n",
    "            label = dirpath.split(\"/\")[-1]\n",
    "            data[\"mapping\"].append(label)\n",
    "            print(\"\\nProcessing:'{}'\".format(label))\n",
    "            for f in filenames:\n",
    "                file_path = os.path.join(dirpath, f)\n",
    "                signal, sample_rate = librosa.load(file_path)\n",
    "                if len(signal) >= SAMPLES_TO_CONSIDER:\n",
    "                    signal = signal[:SAMPLES_TO_CONSIDER]\n",
    "                    MFCCs = librosa.feature.mfcc(signal, sample_rate, n_mfcc=num_mfcc,\n",
    "                                                 n_fft=n_fft, hop_length=hop_length)\n",
    "                    data[\"MFCCs\"].append(MFCCs.T.tolist())\n",
    "                    data[\"labels\"].append(i-1)\n",
    "                    data[\"files\"].append(file_path)\n",
    "                    print(\"{}: {}\".format(file_path, i-1))\n",
    "\n",
    "    with open(json_path, \"w\") as fp:\n",
    "        json.dump(data, fp, indent=4)\n",
    "\n",
    "\n",
    "if __name__== \"__main__\":\n",
    "    preprocess_dataset(DATASET_PATH, JSON_PATH)\n"
   ]
  },
  {
   "cell_type": "code",
   "execution_count": 14,
   "id": "40748684",
   "metadata": {},
   "outputs": [
    {
     "name": "stdout",
     "output_type": "stream",
     "text": [
      "Training sets loaded!\n",
      "Model: \"sequential_6\"\n",
      "_________________________________________________________________\n",
      "Layer (type)                 Output Shape              Param #   \n",
      "=================================================================\n",
      "conv2d_10 (Conv2D)           (None, 42, 11, 64)        640       \n",
      "_________________________________________________________________\n",
      "batch_normalization_15 (Batc (None, 42, 11, 64)        256       \n",
      "_________________________________________________________________\n",
      "max_pooling2d_15 (MaxPooling (None, 21, 6, 64)         0         \n",
      "_________________________________________________________________\n",
      "conv2d_11 (Conv2D)           (None, 19, 4, 32)         18464     \n",
      "_________________________________________________________________\n",
      "batch_normalization_16 (Batc (None, 19, 4, 32)         128       \n",
      "_________________________________________________________________\n",
      "max_pooling2d_16 (MaxPooling (None, 10, 2, 32)         0         \n",
      "_________________________________________________________________\n",
      "batch_normalization_17 (Batc (None, 10, 2, 32)         128       \n",
      "_________________________________________________________________\n",
      "max_pooling2d_17 (MaxPooling (None, 5, 1, 32)          0         \n",
      "_________________________________________________________________\n",
      "flatten_10 (Flatten)         (None, 160)               0         \n",
      "_________________________________________________________________\n",
      "dense_15 (Dense)             (None, 64)                10304     \n",
      "_________________________________________________________________\n",
      "flatten_11 (Flatten)         (None, 64)                0         \n",
      "_________________________________________________________________\n",
      "dense_16 (Dense)             (None, 64)                4160      \n",
      "_________________________________________________________________\n",
      "dense_17 (Dense)             (None, 10)                650       \n",
      "=================================================================\n",
      "Total params: 34,730\n",
      "Trainable params: 34,474\n",
      "Non-trainable params: 256\n",
      "_________________________________________________________________\n",
      "Epoch 1/40\n",
      "6/6 [==============================] - 1s 190ms/step - loss: 2.3558 - accuracy: 0.0698 - val_loss: 5.0779 - val_accuracy: 0.0227\n",
      "Epoch 2/40\n",
      "6/6 [==============================] - 0s 69ms/step - loss: 2.0480 - accuracy: 0.1802 - val_loss: 2.4583 - val_accuracy: 0.4545\n",
      "Epoch 3/40\n",
      "6/6 [==============================] - 0s 67ms/step - loss: 1.7963 - accuracy: 0.3547 - val_loss: 1.5576 - val_accuracy: 0.6364\n",
      "Epoch 4/40\n",
      "6/6 [==============================] - 0s 69ms/step - loss: 1.5982 - accuracy: 0.5349 - val_loss: 1.1559 - val_accuracy: 0.6364\n",
      "Epoch 5/40\n",
      "6/6 [==============================] - ETA: 0s - loss: 1.4043 - accuracy: 0.68 - 0s 69ms/step - loss: 1.3848 - accuracy: 0.6919 - val_loss: 0.9071 - val_accuracy: 0.6364\n",
      "Epoch 6/40\n",
      "6/6 [==============================] - 0s 66ms/step - loss: 1.2319 - accuracy: 0.7384 - val_loss: 0.7112 - val_accuracy: 0.7500\n",
      "Epoch 7/40\n",
      "6/6 [==============================] - 0s 65ms/step - loss: 1.0945 - accuracy: 0.7674 - val_loss: 0.5960 - val_accuracy: 0.7955\n",
      "Epoch 8/40\n",
      "6/6 [==============================] - 0s 68ms/step - loss: 0.9712 - accuracy: 0.8198 - val_loss: 0.5285 - val_accuracy: 0.8636\n",
      "Epoch 9/40\n",
      "6/6 [==============================] - 0s 70ms/step - loss: 0.8676 - accuracy: 0.8314 - val_loss: 0.4820 - val_accuracy: 0.8636\n",
      "Epoch 10/40\n",
      "6/6 [==============================] - 0s 69ms/step - loss: 0.7788 - accuracy: 0.8488 - val_loss: 0.4612 - val_accuracy: 0.8636\n",
      "Epoch 11/40\n",
      "6/6 [==============================] - 0s 66ms/step - loss: 0.7084 - accuracy: 0.8547 - val_loss: 0.4483 - val_accuracy: 0.8864\n",
      "Epoch 12/40\n",
      "6/6 [==============================] - ETA: 0s - loss: 0.6516 - accuracy: 0.86 - 0s 69ms/step - loss: 0.6554 - accuracy: 0.8663 - val_loss: 0.4561 - val_accuracy: 0.8636\n",
      "Epoch 13/40\n",
      "6/6 [==============================] - 0s 66ms/step - loss: 0.6030 - accuracy: 0.8605 - val_loss: 0.4542 - val_accuracy: 0.8636\n",
      "Epoch 14/40\n",
      "6/6 [==============================] - 0s 66ms/step - loss: 0.5640 - accuracy: 0.9012 - val_loss: 0.4521 - val_accuracy: 0.8636\n",
      "Epoch 15/40\n",
      "6/6 [==============================] - 0s 66ms/step - loss: 0.5157 - accuracy: 0.8895 - val_loss: 0.4480 - val_accuracy: 0.8864\n",
      "Epoch 16/40\n",
      "6/6 [==============================] - 0s 66ms/step - loss: 0.4742 - accuracy: 0.9070 - val_loss: 0.4409 - val_accuracy: 0.8864\n",
      "Epoch 17/40\n",
      "6/6 [==============================] - 0s 55ms/step - loss: 0.4485 - accuracy: 0.9070 - val_loss: 0.4336 - val_accuracy: 0.8864\n",
      "Epoch 18/40\n",
      "6/6 [==============================] - 0s 61ms/step - loss: 0.4266 - accuracy: 0.9186 - val_loss: 0.4238 - val_accuracy: 0.8864\n",
      "Epoch 19/40\n",
      "6/6 [==============================] - 0s 58ms/step - loss: 0.4207 - accuracy: 0.8953 - val_loss: 0.4083 - val_accuracy: 0.8864\n",
      "Epoch 20/40\n",
      "6/6 [==============================] - 0s 64ms/step - loss: 0.3766 - accuracy: 0.9360 - val_loss: 0.3989 - val_accuracy: 0.8864\n",
      "Epoch 21/40\n",
      "6/6 [==============================] - 0s 61ms/step - loss: 0.3456 - accuracy: 0.9360 - val_loss: 0.3809 - val_accuracy: 0.8864\n",
      "Epoch 22/40\n",
      "6/6 [==============================] - 0s 61ms/step - loss: 0.3477 - accuracy: 0.9535 - val_loss: 0.3679 - val_accuracy: 0.8864\n",
      "Epoch 23/40\n",
      "6/6 [==============================] - 0s 70ms/step - loss: 0.3244 - accuracy: 0.9477 - val_loss: 0.3645 - val_accuracy: 0.8864\n",
      "Epoch 24/40\n",
      "6/6 [==============================] - 0s 76ms/step - loss: 0.2896 - accuracy: 0.9593 - val_loss: 0.3605 - val_accuracy: 0.8864\n",
      "Epoch 25/40\n",
      "6/6 [==============================] - 0s 68ms/step - loss: 0.2734 - accuracy: 0.9535 - val_loss: 0.3604 - val_accuracy: 0.8864\n",
      "Epoch 26/40\n",
      "6/6 [==============================] - 0s 58ms/step - loss: 0.2587 - accuracy: 0.9709 - val_loss: 0.3575 - val_accuracy: 0.8864\n",
      "Epoch 27/40\n",
      "6/6 [==============================] - 0s 62ms/step - loss: 0.2509 - accuracy: 0.9535 - val_loss: 0.3530 - val_accuracy: 0.8864\n",
      "Epoch 28/40\n",
      "6/6 [==============================] - 0s 61ms/step - loss: 0.2482 - accuracy: 0.9535 - val_loss: 0.3504 - val_accuracy: 0.8864\n",
      "Epoch 29/40\n",
      "6/6 [==============================] - 0s 57ms/step - loss: 0.2490 - accuracy: 0.9477 - val_loss: 0.3456 - val_accuracy: 0.8864\n",
      "Epoch 30/40\n",
      "6/6 [==============================] - 0s 63ms/step - loss: 0.2212 - accuracy: 0.9709 - val_loss: 0.3371 - val_accuracy: 0.8864\n",
      "Epoch 31/40\n",
      "6/6 [==============================] - 0s 64ms/step - loss: 0.2282 - accuracy: 0.9535 - val_loss: 0.3350 - val_accuracy: 0.8864\n"
     ]
    },
    {
     "data": {
      "image/png": "[encoded data removed]",
      "text/plain": [
       "<Figure size 432x288 with 2 Axes>"
      ]
     },
     "metadata": {
      "needs_background": "light"
     },
     "output_type": "display_data"
    },
    {
     "name": "stdout",
     "output_type": "stream",
     "text": [
      "2/2 [==============================] - 0s 7ms/step - loss: 0.3491 - accuracy: 0.8909\n",
      "\n",
      "Test loss: 0.34911173582077026, test accuracy: 89.09090757369995\n"
     ]
    }
   ],
   "source": [
    "import json\n",
    "import numpy as np\n",
    "import tensorflow as tf\n",
    "import matplotlib.pyplot as plt\n",
    "from sklearn.model_selection import train_test_split\n",
    "\n",
    "DATA_PATH= r\"C:\\Users\\Diyona\\Documents\\data.json\"\n",
    "SAVED_MODEL_PATH=r\"C:\\Users\\Diyona\\Documents\\model.h5\"\n",
    "EPOCHS= 40\n",
    "BATCH_SIZE= 32\n",
    "PATIENCE= 5\n",
    "LEARNING_RATE= 0.0001\n",
    "def load_data(data_path):\n",
    "    #Loads training dataset from json file.\n",
    "    with open(data_path,\"r\") as fp:\n",
    "        data=json.load(fp)\n",
    "    X=np.array(data[\"MFCCs\"])\n",
    "    y=np.array(data[\"labels\"])\n",
    "    print(\"Training sets loaded!\")\n",
    "    return X,y\n",
    "def prepare_dataset(data_path, test_size=0.2, validation_size=0.2):\n",
    "    X, y = load_data(data_path)\n",
    "        \n",
    "    X_train, X_test, y_train, y_test = train_test_split(X, y, test_size=test_size)\n",
    "    X_train, X_validation, y_train, y_validation = train_test_split(X_train, y_train,\n",
    "                                                                    test_size=validation_size)\n",
    "        \n",
    "    X_train = X_train[..., np.newaxis]\n",
    "    X_test = X_test[..., np.newaxis]\n",
    "    X_validation = X_validation[..., np.newaxis]\n",
    "    \n",
    "    return X_train, y_train, X_validation, y_validation, X_test, y_test\n",
    "    \n",
    "def build_model(input_shape, loss=\"sparse_categorical_crossentropy\", learning_rate=0.0001):\n",
    "        \n",
    "    model = tf.keras.models.Sequential()\n",
    "        \n",
    "    model.add(tf.keras.layers.Conv2D(64, (3, 3), activation='relu', input_shape=input_shape,\n",
    "                                  kernel_regularizer=tf.keras.regularizers.l2(0.001)))\n",
    "    model.add(tf.keras.layers.BatchNormalization())\n",
    "    model.add(tf.keras.layers.MaxPooling2D((3, 3), strides=(2,2), padding='same'))\n",
    "        \n",
    "    model.add(tf.keras.layers.Conv2D(32, (3, 3),activation='relu',\n",
    "                                        kernel_regularizer=tf.keras.regularizers.l2(0.001)))\n",
    "    model.add(tf.keras.layers.BatchNormalization())\n",
    "    model.add(tf.keras.layers.MaxPooling2D((3, 3), strides=(2,2), padding='same'))\n",
    "        \n",
    "    model.add(tf.keras.layers.BatchNormalization())\n",
    "    model.add(tf.keras.layers.MaxPooling2D((2, 2), strides=(2,2), padding='same'))\n",
    "        \n",
    "    model.add(tf.keras.layers.Flatten())\n",
    "    model.add(tf.keras.layers.Dense(64, activation='relu'))\n",
    "    tf.keras.layers.Dropout(0.0)\n",
    "    model.add(tf.keras.layers.Flatten())\n",
    "    model.add(tf.keras.layers.Dense(64, activation='relu'))\n",
    "    tf.keras.layers.Dropout(0.3)\n",
    "        \n",
    "    model.add(tf.keras.layers.Dense(10, activation='softmax'))\n",
    "        \n",
    "    optimiser = tf.optimizers.Adam(learning_rate=learning_rate)\n",
    "        \n",
    "    model.compile(optimizer=optimiser,\n",
    "                     loss=loss,\n",
    "                     metrics=[\"accuracy\"])\n",
    "        \n",
    "    model.summary()\n",
    "        \n",
    "    return model\n",
    "def train(model,epochs,batch_size,patience,X_train,y_train,X_validation,y_validation):\n",
    "\n",
    "    earlystop_callback = tf.keras.callbacks.EarlyStopping(monitor=\"accuracy\",\n",
    "                                                          min_delta=0.001,patience=patience)\n",
    "\n",
    "    history=model.fit(X_train,\n",
    "                         y_train,\n",
    "                         epochs=epochs,\n",
    "                         batch_size=batch_size,\n",
    "                         validation_data=(X_validation,y_validation),\n",
    "                         callbacks=[earlystop_callback])\n",
    "    return history\n",
    "    \n",
    "def plot_history(history):\n",
    "\n",
    "    fig, axs = plt.subplots(2)\n",
    "\n",
    "    axs[0].plot(history.history[\"accuracy\"], label=\"accuracy\")\n",
    "    axs[0].plot(history.history['val_accuracy'], label=\"val_accuracy\")\n",
    "    axs[0].set_ylabel(\"Accuracy\")\n",
    "    axs[0].legend(loc=\"lower right\")\n",
    "    axs[0].set_title(\"Accuracy evalution\")\n",
    "\n",
    "    axs[1].plot(history.history[\"loss\"], label=\"loss\")\n",
    "    axs[1].plot(history.history['val_loss'], label=\"val_loss\")\n",
    "    axs[1].set_xlabel(\"Epoch\")\n",
    "    axs[1].set_ylabel(\"Loss\")\n",
    "    axs[1].legend(loc=\"upper right\")\n",
    "    axs[1].set_title(\"Loss evalution\")\n",
    "\n",
    "    plt.show()\n",
    "\n",
    "def main():\n",
    "\n",
    "    X_train, y_train, X_validation, y_validation, X_test,y_test = prepare_dataset(DATA_PATH)\n",
    "\n",
    "    input_shape = (X_train.shape[1], X_train.shape[2], 1)\n",
    "    model = build_model(input_shape, learning_rate=LEARNING_RATE)\n",
    "\n",
    "    history = train(model, EPOCHS, BATCH_SIZE, PATIENCE, X_train, y_train,\n",
    "                    X_validation, y_validation)\n",
    "\n",
    "    plot_history(history)\n",
    "\n",
    "    test_loss, test_acc = model.evaluate(X_test, y_test)\n",
    "    print(\"\\nTest loss: {}, test accuracy: {}\".format(test_loss, 100*test_acc))\n",
    "\n",
    "    model.save(SAVED_MODEL_PATH)\n",
    "if __name__ == \"__main__\":\n",
    "    main()\n"
   ]
  },
  {
   "cell_type": "code",
   "execution_count": 1,
   "id": "5cb8116e",
   "metadata": {},
   "outputs": [
    {
     "name": "stderr",
     "output_type": "stream",
     "text": [
      "C:\\Users\\Diyona\\New folder\\envs\\SDP_CSE\\lib\\site-packages\\ipykernel_launcher.py:35: FutureWarning: Pass y=[-0.03053026 -0.03485088 -0.02975986 ...  0.00280005  0.00375159\n",
      "  0.00404181], sr=22050 as keyword args. From version 0.10 passing these as positional arguments will result in an error\n"
     ]
    },
    {
     "name": "stdout",
     "output_type": "stream",
     "text": [
      "cat\n"
     ]
    }
   ],
   "source": [
    "import librosa\n",
    "import tensorflow as tf\n",
    "import numpy as np\n",
    "SAVED_MODEL_PATH = r\"C:\\Users\\Diyona\\Documents\\model.h5\"\n",
    "SAMPLES_TO_CONSIDER = 22050\n",
    "class _Keyword_Spotting_Service:\n",
    "    model = None\n",
    "    _mapping = [\n",
    "        \"cat\",\n",
    "        \"dog\"]\n",
    "    _instance = None\n",
    "    def predict(self,file_path):\n",
    "        #extract MFCC\n",
    "        MFCCs = self.preprocess(file_path)\n",
    "\n",
    "        #we need a 4-dim array to feed to the model prediction:(#samples,#time)\n",
    "        MFCCs = MFCCs[np.newaxis, ..., np.newaxis]\n",
    "\n",
    "        #get the predicted label\n",
    "        predictions = self.model.predict(MFCCs)\n",
    "        predicted_index = np.argmax(predictions)\n",
    "        predicted_keyword = self._mapping[predicted_index]\n",
    "        return predicted_keyword\n",
    "    def preprocess(self,file_path,num_mfcc=13, n_fft=2048,hop_length=512):\n",
    "\n",
    "        #load audio file\n",
    "        signal, sample_rate = librosa.load(file_path)\n",
    "\n",
    "        if len(signal) >= SAMPLES_TO_CONSIDER:\n",
    "            #ensure consistency\n",
    "            signal = signal[:SAMPLES_TO_CONSIDER]\n",
    "\n",
    "            #extract MFCCs\n",
    "            MFCCs = librosa.feature.mfcc(signal, sample_rate, n_mfcc=num_mfcc, n_fft=n_fft,\n",
    "                                         hop_length=hop_length)\n",
    "        return MFCCs.T\n",
    "def Keyword_Spotting_Service():\n",
    "\n",
    "    if _Keyword_Spotting_Service._instance is None:\n",
    "        _Keyword_Spotting_Service._instance = _Keyword_Spotting_Service()\n",
    "        _Keyword_Spotting_Service.model = tf.keras.models.load_model(SAVED_MODEL_PATH)\n",
    "    return _Keyword_Spotting_Service._instance\n",
    "\n",
    "if __name__ == \"__main__\":\n",
    "\n",
    "    kss = Keyword_Spotting_Service()\n",
    "    kss1 = Keyword_Spotting_Service()\n",
    "\n",
    "    assert kss is kss1\n",
    "\n",
    "    keyword = kss.predict(r\"C:\\Users\\Diyona\\Desktop\\xyz_2.wav\")\n",
    "    print(keyword)\n"
   ]
  },
  {
   "cell_type": "code",
   "execution_count": null,
   "id": "1cbe0108",
   "metadata": {},
   "outputs": [],
   "source": []
  }
 ],
 "metadata": {
  "kernelspec": {
   "display_name": "Python 3 (ipykernel)",
   "language": "python",
   "name": "python3"
  },
  "language_info": {
   "codemirror_mode": {
    "name": "ipython",
    "version": 3
   },
   "file_extension": ".py",
   "mimetype": "text/x-python",
   "name": "python",
   "nbconvert_exporter": "python",
   "pygments_lexer": "ipython3",
   "version": "3.7.13"
  }
 },
 "nbformat": 4,
 "nbformat_minor": 5
}
